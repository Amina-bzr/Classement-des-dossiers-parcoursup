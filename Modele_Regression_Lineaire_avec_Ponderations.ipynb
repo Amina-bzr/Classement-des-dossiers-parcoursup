{
  "nbformat": 4,
  "nbformat_minor": 0,
  "metadata": {
    "colab": {
      "provenance": [],
      "collapsed_sections": [
        "7tut58Q9ZsNy",
        "MHrHtIo2nGfi",
        "dAFvRMmGyIZF",
        "bFLaMKw5AXTI"
      ]
    },
    "kernelspec": {
      "name": "python3",
      "display_name": "Python 3"
    },
    "language_info": {
      "name": "python"
    }
  },
  "cells": [
    {
      "cell_type": "markdown",
      "source": [
        "Collecte de données :"
      ],
      "metadata": {
        "id": "rjDAN-ZGvTZE"
      }
    },
    {
      "cell_type": "code",
      "source": [
        "import numpy as np\n",
        "import pandas as pd\n",
        "\n",
        "urlX = (\n",
        "       \"Parcoursup 2021.anonyme.csv\",\n",
        "       \"Parcoursup 2022.anonyme.csv\"\n",
        "       )\n",
        "urlY= (\n",
        "       \"Semestre 1 2021-2022.anonyme.csv\",\n",
        "       \"Semestre 1 2022-2023.anonyme.csv\"\n",
        ")\n",
        "df1 = pd.read_csv(urlX[0],delimiter=\"\\t\")\n",
        "df2 = pd.read_csv(urlX[1],delimiter=\"\\t\")\n",
        "\n",
        "y1 = pd.read_csv(urlY[0],delimiter=\";\")\n",
        "y2 = pd.read_csv(urlY[1],delimiter=\"\\t\")\n",
        "\n",
        "df2.drop(range(0,10), inplace=True) #supprimer les colonnes relatives aux coefficients\n",
        "df1.drop(range(0,11), inplace=True) #supprimer les colonnes relatives aux coefficients"
      ],
      "metadata": {
        "id": "fZDhXcHcwzhC"
      },
      "execution_count": null,
      "outputs": []
    },
    {
      "cell_type": "markdown",
      "source": [
        "On supprime les lignes duppliquées :"
      ],
      "metadata": {
        "id": "hcbMF9a_wTih"
      }
    },
    {
      "cell_type": "code",
      "source": [
        "df2.drop_duplicates(inplace=True) #supprimer les lignes dupliquées\n",
        "df1.drop_duplicates(inplace=True) #supprimer les lignes dupliquées"
      ],
      "metadata": {
        "id": "pH8PUxrdOh-O"
      },
      "execution_count": 65,
      "outputs": []
    },
    {
      "cell_type": "markdown",
      "source": [
        "On prend que les colonnes communes aux deux années :\n"
      ],
      "metadata": {
        "id": "pn5FrFknwYLi"
      }
    },
    {
      "cell_type": "code",
      "source": [
        "common_features =  list(set(df1.columns) & set(df2.columns))\n",
        "X = pd.concat([df2[common_features],df1[common_features]])\n",
        "X"
      ],
      "metadata": {
        "id": "irI0hCzW7pfR",
        "colab": {
          "base_uri": "https://localhost:8080/",
          "height": 861
        },
        "outputId": "df2275d5-eb4c-4369-8400-d386acffa1df"
      },
      "execution_count": 66,
      "outputs": [
        {
          "output_type": "execute_result",
          "data": {
            "text/plain": [
              "    Cordée de la réussite Moyenne classe en Mathématiques Trimestre 1  \\\n",
              "10                    Oui                                         NaN   \n",
              "11                    NaN                                         NaN   \n",
              "12                    NaN                                         NaN   \n",
              "13                    NaN                                         NaN   \n",
              "14                    NaN                                         NaN   \n",
              "..                    ...                                         ...   \n",
              "787                   NaN                                         NaN   \n",
              "788                   NaN                                         NaN   \n",
              "789                   NaN                                         NaN   \n",
              "790                   NaN                                         NaN   \n",
              "791                   NaN                                         NaN   \n",
              "\n",
              "     Moyenne classe en Sciences de l'ingénieur et sciences physiques Trimestre 1.1  \\\n",
              "10                                                 NaN                               \n",
              "11                                                 NaN                               \n",
              "12                                                 NaN                               \n",
              "13                                                 NaN                               \n",
              "14                                                 NaN                               \n",
              "..                                                 ...                               \n",
              "787                                                NaN                               \n",
              "788                                                NaN                               \n",
              "789                                                NaN                               \n",
              "790                                                NaN                               \n",
              "791                                                NaN                               \n",
              "\n",
              "     Moyenne candidat en Physique Trimestre 2.1  \\\n",
              "10                                          NaN   \n",
              "11                                          NaN   \n",
              "12                                          NaN   \n",
              "13                                          NaN   \n",
              "14                                          NaN   \n",
              "..                                          ...   \n",
              "787                                         NaN   \n",
              "788                                         NaN   \n",
              "789                                         NaN   \n",
              "790                                         NaN   \n",
              "791                                         NaN   \n",
              "\n",
              "     Note à l'épreuve de Enseignement scientifique  (épreuve anticipée)  \\\n",
              "10                                                 NaN                    \n",
              "11                                                 NaN                    \n",
              "12                                                 NaN                    \n",
              "13                                                 NaN                    \n",
              "14                                                 NaN                    \n",
              "..                                                 ...                    \n",
              "787                                                NaN                    \n",
              "788                                                NaN                    \n",
              "789                                                NaN                    \n",
              "790                                                NaN                    \n",
              "791                                                NaN                    \n",
              "\n",
              "    Type de saisie en Mathématiques Expertes Trimestre 3  \\\n",
              "10                                                 NaN     \n",
              "11                                                 CAN     \n",
              "12                                                 NaN     \n",
              "13                                                 NaN     \n",
              "14                                                 NaN     \n",
              "..                                                 ...     \n",
              "787                                                NaN     \n",
              "788                                                NaN     \n",
              "789                                                NaN     \n",
              "790                                                NaN     \n",
              "791                                                NaN     \n",
              "\n",
              "     Moyenne classe en Sciences de l'ingénieur Trimestre 3  \\\n",
              "10                                                 NaN       \n",
              "11                                                 NaN       \n",
              "12                                                 NaN       \n",
              "13                                                 NaN       \n",
              "14                                                 NaN       \n",
              "..                                                 ...       \n",
              "787                                                NaN       \n",
              "788                                                NaN       \n",
              "789                                                NaN       \n",
              "790                                                NaN       \n",
              "791                                                NaN       \n",
              "\n",
              "    Moyenne candidat en Mathématiques Trimestre 3  \\\n",
              "10                                            NaN   \n",
              "11                                            NaN   \n",
              "12                                            NaN   \n",
              "13                                            NaN   \n",
              "14                                            NaN   \n",
              "..                                            ...   \n",
              "787                                           NaN   \n",
              "788                                           NaN   \n",
              "789                                           NaN   \n",
              "790                                           NaN   \n",
              "791                                           NaN   \n",
              "\n",
              "               Type de formation.3  \\\n",
              "10   Autre formation du secondaire   \n",
              "11                         Seconde   \n",
              "12   Autre formation du secondaire   \n",
              "13   Autre formation du secondaire   \n",
              "14   Autre formation du secondaire   \n",
              "..                             ...   \n",
              "787  Autre formation du secondaire   \n",
              "788  Autre formation du secondaire   \n",
              "789  Autre formation du secondaire   \n",
              "790  Autre formation du secondaire   \n",
              "791                            NaN   \n",
              "\n",
              "    Moyenne candidat en Numérique et Sciences Informatiques Trimestre 3.1  \\\n",
              "10                                                 NaN                      \n",
              "11                                                 NaN                      \n",
              "12                                                 NaN                      \n",
              "13                                                 NaN                      \n",
              "14                                                 NaN                      \n",
              "..                                                 ...                      \n",
              "787                                                NaN                      \n",
              "788                                                NaN                      \n",
              "789                                                NaN                      \n",
              "790                                                NaN                      \n",
              "791                                                NaN                      \n",
              "\n",
              "     ... Type de saisie en Numérique et Sciences Informatiques Trimestre 1.1  \\\n",
              "10   ...                                                NaN                    \n",
              "11   ...                                                ETA                    \n",
              "12   ...                                                NaN                    \n",
              "13   ...                                                NaN                    \n",
              "14   ...                                                NaN                    \n",
              "..   ...                                                ...                    \n",
              "787  ...                                                ETA                    \n",
              "788  ...                                                ETA                    \n",
              "789  ...                                                NaN                    \n",
              "790  ...                                                NaN                    \n",
              "791  ...                                                NaN                    \n",
              "\n",
              "    Moyenne candidat en Mathématiques Complémentaires Trimestre 2  \\\n",
              "10                                                 NaN              \n",
              "11                                                 NaN              \n",
              "12                                                 NaN              \n",
              "13                                                 NaN              \n",
              "14                                                 NaN              \n",
              "..                                                 ...              \n",
              "787                                                NaN              \n",
              "788                                                NaN              \n",
              "789                                                NaN              \n",
              "790                                                NaN              \n",
              "791                                                NaN              \n",
              "\n",
              "    Type de saisie en Langue vivante A Trimestre 2.1  \\\n",
              "10                                               ETA   \n",
              "11                                               ETA   \n",
              "12                                               ETA   \n",
              "13                                               ETA   \n",
              "14                                               ETA   \n",
              "..                                               ...   \n",
              "787                                              ETA   \n",
              "788                                              ETA   \n",
              "789                                              ETA   \n",
              "790                                              ETA   \n",
              "791                                              NaN   \n",
              "\n",
              "    Moyenne classe en Mathématiques, Sciences Physiques Trimestre 1  \\\n",
              "10                                                 NaN                \n",
              "11                                                 NaN                \n",
              "12                                                 NaN                \n",
              "13                                                 NaN                \n",
              "14                                                 NaN                \n",
              "..                                                 ...                \n",
              "787                                                NaN                \n",
              "788                                                NaN                \n",
              "789                                                NaN                \n",
              "790                                                NaN                \n",
              "791                                                NaN                \n",
              "\n",
              "     Moyenne classe en Mathématiques Spécialité Trimestre 3 Type de formation  \\\n",
              "10                                                 NaN              Terminale   \n",
              "11                                               11,26                   CPGE   \n",
              "12                                                 NaN              Terminale   \n",
              "13                                                 NaN              Terminale   \n",
              "14                                                 NaN              Terminale   \n",
              "..                                                 ...                    ...   \n",
              "787                                                NaN              Terminale   \n",
              "788                                                NaN              Terminale   \n",
              "789                                                NaN              Terminale   \n",
              "790                                                NaN              Terminale   \n",
              "791                                                NaN              Terminale   \n",
              "\n",
              "    Type de saisie en Français Trimestre 1.1           Série  \\\n",
              "10                                       ETA  Série Générale   \n",
              "11                                       ETA  Série Générale   \n",
              "12                                       ETA  Série Générale   \n",
              "13                                       ETA  Série Générale   \n",
              "14                                       ETA  Série Générale   \n",
              "..                                       ...             ...   \n",
              "787                                      ETA  Série Générale   \n",
              "788                                      ETA  Série Générale   \n",
              "789                                      ETA  Série Générale   \n",
              "790                                      ETA  Série Générale   \n",
              "791                                      NaN             NaN   \n",
              "\n",
              "     Note à l'épreuve de Oral de Français (épreuve anticipée)  \\\n",
              "10                                                 NaN          \n",
              "11                                                 NaN          \n",
              "12                                                 NaN          \n",
              "13                                                 NaN          \n",
              "14                                                 NaN          \n",
              "..                                                 ...          \n",
              "787                                                NaN          \n",
              "788                                                NaN          \n",
              "789                                                NaN          \n",
              "790                                                NaN          \n",
              "791                                                NaN          \n",
              "\n",
              "               Autonomie  \n",
              "10    Très satisfaisante  \n",
              "11                   NaN  \n",
              "12    Très satisfaisante  \n",
              "13    Très satisfaisante  \n",
              "14    Très satisfaisante  \n",
              "..                   ...  \n",
              "787        Satisfaisante  \n",
              "788  Assez satisfaisante  \n",
              "789   Très satisfaisante  \n",
              "790   Très satisfaisante  \n",
              "791                  NaN  \n",
              "\n",
              "[2960 rows x 324 columns]"
            ],
            "text/html": [
              "\n",
              "  <div id=\"df-b53d4a9f-63b4-4110-bd73-877cc3665b30\" class=\"colab-df-container\">\n",
              "    <div>\n",
              "<style scoped>\n",
              "    .dataframe tbody tr th:only-of-type {\n",
              "        vertical-align: middle;\n",
              "    }\n",
              "\n",
              "    .dataframe tbody tr th {\n",
              "        vertical-align: top;\n",
              "    }\n",
              "\n",
              "    .dataframe thead th {\n",
              "        text-align: right;\n",
              "    }\n",
              "</style>\n",
              "<table border=\"1\" class=\"dataframe\">\n",
              "  <thead>\n",
              "    <tr style=\"text-align: right;\">\n",
              "      <th></th>\n",
              "      <th>Cordée de la réussite</th>\n",
              "      <th>Moyenne classe en Mathématiques Trimestre 1</th>\n",
              "      <th>Moyenne classe en Sciences de l'ingénieur et sciences physiques Trimestre 1.1</th>\n",
              "      <th>Moyenne candidat en Physique Trimestre 2.1</th>\n",
              "      <th>Note à l'épreuve de Enseignement scientifique  (épreuve anticipée)</th>\n",
              "      <th>Type de saisie en Mathématiques Expertes Trimestre 3</th>\n",
              "      <th>Moyenne classe en Sciences de l'ingénieur Trimestre 3</th>\n",
              "      <th>Moyenne candidat en Mathématiques Trimestre 3</th>\n",
              "      <th>Type de formation.3</th>\n",
              "      <th>Moyenne candidat en Numérique et Sciences Informatiques Trimestre 3.1</th>\n",
              "      <th>...</th>\n",
              "      <th>Type de saisie en Numérique et Sciences Informatiques Trimestre 1.1</th>\n",
              "      <th>Moyenne candidat en Mathématiques Complémentaires Trimestre 2</th>\n",
              "      <th>Type de saisie en Langue vivante A Trimestre 2.1</th>\n",
              "      <th>Moyenne classe en Mathématiques, Sciences Physiques Trimestre 1</th>\n",
              "      <th>Moyenne classe en Mathématiques Spécialité Trimestre 3</th>\n",
              "      <th>Type de formation</th>\n",
              "      <th>Type de saisie en Français Trimestre 1.1</th>\n",
              "      <th>Série</th>\n",
              "      <th>Note à l'épreuve de Oral de Français (épreuve anticipée)</th>\n",
              "      <th>Autonomie</th>\n",
              "    </tr>\n",
              "  </thead>\n",
              "  <tbody>\n",
              "    <tr>\n",
              "      <th>10</th>\n",
              "      <td>Oui</td>\n",
              "      <td>NaN</td>\n",
              "      <td>NaN</td>\n",
              "      <td>NaN</td>\n",
              "      <td>NaN</td>\n",
              "      <td>NaN</td>\n",
              "      <td>NaN</td>\n",
              "      <td>NaN</td>\n",
              "      <td>Autre formation du secondaire</td>\n",
              "      <td>NaN</td>\n",
              "      <td>...</td>\n",
              "      <td>NaN</td>\n",
              "      <td>NaN</td>\n",
              "      <td>ETA</td>\n",
              "      <td>NaN</td>\n",
              "      <td>NaN</td>\n",
              "      <td>Terminale</td>\n",
              "      <td>ETA</td>\n",
              "      <td>Série Générale</td>\n",
              "      <td>NaN</td>\n",
              "      <td>Très satisfaisante</td>\n",
              "    </tr>\n",
              "    <tr>\n",
              "      <th>11</th>\n",
              "      <td>NaN</td>\n",
              "      <td>NaN</td>\n",
              "      <td>NaN</td>\n",
              "      <td>NaN</td>\n",
              "      <td>NaN</td>\n",
              "      <td>CAN</td>\n",
              "      <td>NaN</td>\n",
              "      <td>NaN</td>\n",
              "      <td>Seconde</td>\n",
              "      <td>NaN</td>\n",
              "      <td>...</td>\n",
              "      <td>ETA</td>\n",
              "      <td>NaN</td>\n",
              "      <td>ETA</td>\n",
              "      <td>NaN</td>\n",
              "      <td>11,26</td>\n",
              "      <td>CPGE</td>\n",
              "      <td>ETA</td>\n",
              "      <td>Série Générale</td>\n",
              "      <td>NaN</td>\n",
              "      <td>NaN</td>\n",
              "    </tr>\n",
              "    <tr>\n",
              "      <th>12</th>\n",
              "      <td>NaN</td>\n",
              "      <td>NaN</td>\n",
              "      <td>NaN</td>\n",
              "      <td>NaN</td>\n",
              "      <td>NaN</td>\n",
              "      <td>NaN</td>\n",
              "      <td>NaN</td>\n",
              "      <td>NaN</td>\n",
              "      <td>Autre formation du secondaire</td>\n",
              "      <td>NaN</td>\n",
              "      <td>...</td>\n",
              "      <td>NaN</td>\n",
              "      <td>NaN</td>\n",
              "      <td>ETA</td>\n",
              "      <td>NaN</td>\n",
              "      <td>NaN</td>\n",
              "      <td>Terminale</td>\n",
              "      <td>ETA</td>\n",
              "      <td>Série Générale</td>\n",
              "      <td>NaN</td>\n",
              "      <td>Très satisfaisante</td>\n",
              "    </tr>\n",
              "    <tr>\n",
              "      <th>13</th>\n",
              "      <td>NaN</td>\n",
              "      <td>NaN</td>\n",
              "      <td>NaN</td>\n",
              "      <td>NaN</td>\n",
              "      <td>NaN</td>\n",
              "      <td>NaN</td>\n",
              "      <td>NaN</td>\n",
              "      <td>NaN</td>\n",
              "      <td>Autre formation du secondaire</td>\n",
              "      <td>NaN</td>\n",
              "      <td>...</td>\n",
              "      <td>NaN</td>\n",
              "      <td>NaN</td>\n",
              "      <td>ETA</td>\n",
              "      <td>NaN</td>\n",
              "      <td>NaN</td>\n",
              "      <td>Terminale</td>\n",
              "      <td>ETA</td>\n",
              "      <td>Série Générale</td>\n",
              "      <td>NaN</td>\n",
              "      <td>Très satisfaisante</td>\n",
              "    </tr>\n",
              "    <tr>\n",
              "      <th>14</th>\n",
              "      <td>NaN</td>\n",
              "      <td>NaN</td>\n",
              "      <td>NaN</td>\n",
              "      <td>NaN</td>\n",
              "      <td>NaN</td>\n",
              "      <td>NaN</td>\n",
              "      <td>NaN</td>\n",
              "      <td>NaN</td>\n",
              "      <td>Autre formation du secondaire</td>\n",
              "      <td>NaN</td>\n",
              "      <td>...</td>\n",
              "      <td>NaN</td>\n",
              "      <td>NaN</td>\n",
              "      <td>ETA</td>\n",
              "      <td>NaN</td>\n",
              "      <td>NaN</td>\n",
              "      <td>Terminale</td>\n",
              "      <td>ETA</td>\n",
              "      <td>Série Générale</td>\n",
              "      <td>NaN</td>\n",
              "      <td>Très satisfaisante</td>\n",
              "    </tr>\n",
              "    <tr>\n",
              "      <th>...</th>\n",
              "      <td>...</td>\n",
              "      <td>...</td>\n",
              "      <td>...</td>\n",
              "      <td>...</td>\n",
              "      <td>...</td>\n",
              "      <td>...</td>\n",
              "      <td>...</td>\n",
              "      <td>...</td>\n",
              "      <td>...</td>\n",
              "      <td>...</td>\n",
              "      <td>...</td>\n",
              "      <td>...</td>\n",
              "      <td>...</td>\n",
              "      <td>...</td>\n",
              "      <td>...</td>\n",
              "      <td>...</td>\n",
              "      <td>...</td>\n",
              "      <td>...</td>\n",
              "      <td>...</td>\n",
              "      <td>...</td>\n",
              "      <td>...</td>\n",
              "    </tr>\n",
              "    <tr>\n",
              "      <th>787</th>\n",
              "      <td>NaN</td>\n",
              "      <td>NaN</td>\n",
              "      <td>NaN</td>\n",
              "      <td>NaN</td>\n",
              "      <td>NaN</td>\n",
              "      <td>NaN</td>\n",
              "      <td>NaN</td>\n",
              "      <td>NaN</td>\n",
              "      <td>Autre formation du secondaire</td>\n",
              "      <td>NaN</td>\n",
              "      <td>...</td>\n",
              "      <td>ETA</td>\n",
              "      <td>NaN</td>\n",
              "      <td>ETA</td>\n",
              "      <td>NaN</td>\n",
              "      <td>NaN</td>\n",
              "      <td>Terminale</td>\n",
              "      <td>ETA</td>\n",
              "      <td>Série Générale</td>\n",
              "      <td>NaN</td>\n",
              "      <td>Satisfaisante</td>\n",
              "    </tr>\n",
              "    <tr>\n",
              "      <th>788</th>\n",
              "      <td>NaN</td>\n",
              "      <td>NaN</td>\n",
              "      <td>NaN</td>\n",
              "      <td>NaN</td>\n",
              "      <td>NaN</td>\n",
              "      <td>NaN</td>\n",
              "      <td>NaN</td>\n",
              "      <td>NaN</td>\n",
              "      <td>Autre formation du secondaire</td>\n",
              "      <td>NaN</td>\n",
              "      <td>...</td>\n",
              "      <td>ETA</td>\n",
              "      <td>NaN</td>\n",
              "      <td>ETA</td>\n",
              "      <td>NaN</td>\n",
              "      <td>NaN</td>\n",
              "      <td>Terminale</td>\n",
              "      <td>ETA</td>\n",
              "      <td>Série Générale</td>\n",
              "      <td>NaN</td>\n",
              "      <td>Assez satisfaisante</td>\n",
              "    </tr>\n",
              "    <tr>\n",
              "      <th>789</th>\n",
              "      <td>NaN</td>\n",
              "      <td>NaN</td>\n",
              "      <td>NaN</td>\n",
              "      <td>NaN</td>\n",
              "      <td>NaN</td>\n",
              "      <td>NaN</td>\n",
              "      <td>NaN</td>\n",
              "      <td>NaN</td>\n",
              "      <td>Autre formation du secondaire</td>\n",
              "      <td>NaN</td>\n",
              "      <td>...</td>\n",
              "      <td>NaN</td>\n",
              "      <td>NaN</td>\n",
              "      <td>ETA</td>\n",
              "      <td>NaN</td>\n",
              "      <td>NaN</td>\n",
              "      <td>Terminale</td>\n",
              "      <td>ETA</td>\n",
              "      <td>Série Générale</td>\n",
              "      <td>NaN</td>\n",
              "      <td>Très satisfaisante</td>\n",
              "    </tr>\n",
              "    <tr>\n",
              "      <th>790</th>\n",
              "      <td>NaN</td>\n",
              "      <td>NaN</td>\n",
              "      <td>NaN</td>\n",
              "      <td>NaN</td>\n",
              "      <td>NaN</td>\n",
              "      <td>NaN</td>\n",
              "      <td>NaN</td>\n",
              "      <td>NaN</td>\n",
              "      <td>Autre formation du secondaire</td>\n",
              "      <td>NaN</td>\n",
              "      <td>...</td>\n",
              "      <td>NaN</td>\n",
              "      <td>NaN</td>\n",
              "      <td>ETA</td>\n",
              "      <td>NaN</td>\n",
              "      <td>NaN</td>\n",
              "      <td>Terminale</td>\n",
              "      <td>ETA</td>\n",
              "      <td>Série Générale</td>\n",
              "      <td>NaN</td>\n",
              "      <td>Très satisfaisante</td>\n",
              "    </tr>\n",
              "    <tr>\n",
              "      <th>791</th>\n",
              "      <td>NaN</td>\n",
              "      <td>NaN</td>\n",
              "      <td>NaN</td>\n",
              "      <td>NaN</td>\n",
              "      <td>NaN</td>\n",
              "      <td>NaN</td>\n",
              "      <td>NaN</td>\n",
              "      <td>NaN</td>\n",
              "      <td>NaN</td>\n",
              "      <td>NaN</td>\n",
              "      <td>...</td>\n",
              "      <td>NaN</td>\n",
              "      <td>NaN</td>\n",
              "      <td>NaN</td>\n",
              "      <td>NaN</td>\n",
              "      <td>NaN</td>\n",
              "      <td>Terminale</td>\n",
              "      <td>NaN</td>\n",
              "      <td>NaN</td>\n",
              "      <td>NaN</td>\n",
              "      <td>NaN</td>\n",
              "    </tr>\n",
              "  </tbody>\n",
              "</table>\n",
              "<p>2960 rows × 324 columns</p>\n",
              "</div>\n",
              "    <div class=\"colab-df-buttons\">\n",
              "\n",
              "  <div class=\"colab-df-container\">\n",
              "    <button class=\"colab-df-convert\" onclick=\"convertToInteractive('df-b53d4a9f-63b4-4110-bd73-877cc3665b30')\"\n",
              "            title=\"Convert this dataframe to an interactive table.\"\n",
              "            style=\"display:none;\">\n",
              "\n",
              "  <svg xmlns=\"http://www.w3.org/2000/svg\" height=\"24px\" viewBox=\"0 -960 960 960\">\n",
              "    <path d=\"M120-120v-720h720v720H120Zm60-500h600v-160H180v160Zm220 220h160v-160H400v160Zm0 220h160v-160H400v160ZM180-400h160v-160H180v160Zm440 0h160v-160H620v160ZM180-180h160v-160H180v160Zm440 0h160v-160H620v160Z\"/>\n",
              "  </svg>\n",
              "    </button>\n",
              "\n",
              "  <style>\n",
              "    .colab-df-container {\n",
              "      display:flex;\n",
              "      gap: 12px;\n",
              "    }\n",
              "\n",
              "    .colab-df-convert {\n",
              "      background-color: #E8F0FE;\n",
              "      border: none;\n",
              "      border-radius: 50%;\n",
              "      cursor: pointer;\n",
              "      display: none;\n",
              "      fill: #1967D2;\n",
              "      height: 32px;\n",
              "      padding: 0 0 0 0;\n",
              "      width: 32px;\n",
              "    }\n",
              "\n",
              "    .colab-df-convert:hover {\n",
              "      background-color: #E2EBFA;\n",
              "      box-shadow: 0px 1px 2px rgba(60, 64, 67, 0.3), 0px 1px 3px 1px rgba(60, 64, 67, 0.15);\n",
              "      fill: #174EA6;\n",
              "    }\n",
              "\n",
              "    .colab-df-buttons div {\n",
              "      margin-bottom: 4px;\n",
              "    }\n",
              "\n",
              "    [theme=dark] .colab-df-convert {\n",
              "      background-color: #3B4455;\n",
              "      fill: #D2E3FC;\n",
              "    }\n",
              "\n",
              "    [theme=dark] .colab-df-convert:hover {\n",
              "      background-color: #434B5C;\n",
              "      box-shadow: 0px 1px 3px 1px rgba(0, 0, 0, 0.15);\n",
              "      filter: drop-shadow(0px 1px 2px rgba(0, 0, 0, 0.3));\n",
              "      fill: #FFFFFF;\n",
              "    }\n",
              "  </style>\n",
              "\n",
              "    <script>\n",
              "      const buttonEl =\n",
              "        document.querySelector('#df-b53d4a9f-63b4-4110-bd73-877cc3665b30 button.colab-df-convert');\n",
              "      buttonEl.style.display =\n",
              "        google.colab.kernel.accessAllowed ? 'block' : 'none';\n",
              "\n",
              "      async function convertToInteractive(key) {\n",
              "        const element = document.querySelector('#df-b53d4a9f-63b4-4110-bd73-877cc3665b30');\n",
              "        const dataTable =\n",
              "          await google.colab.kernel.invokeFunction('convertToInteractive',\n",
              "                                                    [key], {});\n",
              "        if (!dataTable) return;\n",
              "\n",
              "        const docLinkHtml = 'Like what you see? Visit the ' +\n",
              "          '<a target=\"_blank\" href=https://colab.research.google.com/notebooks/data_table.ipynb>data table notebook</a>'\n",
              "          + ' to learn more about interactive tables.';\n",
              "        element.innerHTML = '';\n",
              "        dataTable['output_type'] = 'display_data';\n",
              "        await google.colab.output.renderOutput(dataTable, element);\n",
              "        const docLink = document.createElement('div');\n",
              "        docLink.innerHTML = docLinkHtml;\n",
              "        element.appendChild(docLink);\n",
              "      }\n",
              "    </script>\n",
              "  </div>\n",
              "\n",
              "\n",
              "<div id=\"df-f2789900-eb61-448c-9962-78cc2f915cc5\">\n",
              "  <button class=\"colab-df-quickchart\" onclick=\"quickchart('df-f2789900-eb61-448c-9962-78cc2f915cc5')\"\n",
              "            title=\"Suggest charts\"\n",
              "            style=\"display:none;\">\n",
              "\n",
              "<svg xmlns=\"http://www.w3.org/2000/svg\" height=\"24px\"viewBox=\"0 0 24 24\"\n",
              "     width=\"24px\">\n",
              "    <g>\n",
              "        <path d=\"M19 3H5c-1.1 0-2 .9-2 2v14c0 1.1.9 2 2 2h14c1.1 0 2-.9 2-2V5c0-1.1-.9-2-2-2zM9 17H7v-7h2v7zm4 0h-2V7h2v10zm4 0h-2v-4h2v4z\"/>\n",
              "    </g>\n",
              "</svg>\n",
              "  </button>\n",
              "\n",
              "<style>\n",
              "  .colab-df-quickchart {\n",
              "      --bg-color: #E8F0FE;\n",
              "      --fill-color: #1967D2;\n",
              "      --hover-bg-color: #E2EBFA;\n",
              "      --hover-fill-color: #174EA6;\n",
              "      --disabled-fill-color: #AAA;\n",
              "      --disabled-bg-color: #DDD;\n",
              "  }\n",
              "\n",
              "  [theme=dark] .colab-df-quickchart {\n",
              "      --bg-color: #3B4455;\n",
              "      --fill-color: #D2E3FC;\n",
              "      --hover-bg-color: #434B5C;\n",
              "      --hover-fill-color: #FFFFFF;\n",
              "      --disabled-bg-color: #3B4455;\n",
              "      --disabled-fill-color: #666;\n",
              "  }\n",
              "\n",
              "  .colab-df-quickchart {\n",
              "    background-color: var(--bg-color);\n",
              "    border: none;\n",
              "    border-radius: 50%;\n",
              "    cursor: pointer;\n",
              "    display: none;\n",
              "    fill: var(--fill-color);\n",
              "    height: 32px;\n",
              "    padding: 0;\n",
              "    width: 32px;\n",
              "  }\n",
              "\n",
              "  .colab-df-quickchart:hover {\n",
              "    background-color: var(--hover-bg-color);\n",
              "    box-shadow: 0 1px 2px rgba(60, 64, 67, 0.3), 0 1px 3px 1px rgba(60, 64, 67, 0.15);\n",
              "    fill: var(--button-hover-fill-color);\n",
              "  }\n",
              "\n",
              "  .colab-df-quickchart-complete:disabled,\n",
              "  .colab-df-quickchart-complete:disabled:hover {\n",
              "    background-color: var(--disabled-bg-color);\n",
              "    fill: var(--disabled-fill-color);\n",
              "    box-shadow: none;\n",
              "  }\n",
              "\n",
              "  .colab-df-spinner {\n",
              "    border: 2px solid var(--fill-color);\n",
              "    border-color: transparent;\n",
              "    border-bottom-color: var(--fill-color);\n",
              "    animation:\n",
              "      spin 1s steps(1) infinite;\n",
              "  }\n",
              "\n",
              "  @keyframes spin {\n",
              "    0% {\n",
              "      border-color: transparent;\n",
              "      border-bottom-color: var(--fill-color);\n",
              "      border-left-color: var(--fill-color);\n",
              "    }\n",
              "    20% {\n",
              "      border-color: transparent;\n",
              "      border-left-color: var(--fill-color);\n",
              "      border-top-color: var(--fill-color);\n",
              "    }\n",
              "    30% {\n",
              "      border-color: transparent;\n",
              "      border-left-color: var(--fill-color);\n",
              "      border-top-color: var(--fill-color);\n",
              "      border-right-color: var(--fill-color);\n",
              "    }\n",
              "    40% {\n",
              "      border-color: transparent;\n",
              "      border-right-color: var(--fill-color);\n",
              "      border-top-color: var(--fill-color);\n",
              "    }\n",
              "    60% {\n",
              "      border-color: transparent;\n",
              "      border-right-color: var(--fill-color);\n",
              "    }\n",
              "    80% {\n",
              "      border-color: transparent;\n",
              "      border-right-color: var(--fill-color);\n",
              "      border-bottom-color: var(--fill-color);\n",
              "    }\n",
              "    90% {\n",
              "      border-color: transparent;\n",
              "      border-bottom-color: var(--fill-color);\n",
              "    }\n",
              "  }\n",
              "</style>\n",
              "\n",
              "  <script>\n",
              "    async function quickchart(key) {\n",
              "      const quickchartButtonEl =\n",
              "        document.querySelector('#' + key + ' button');\n",
              "      quickchartButtonEl.disabled = true;  // To prevent multiple clicks.\n",
              "      quickchartButtonEl.classList.add('colab-df-spinner');\n",
              "      try {\n",
              "        const charts = await google.colab.kernel.invokeFunction(\n",
              "            'suggestCharts', [key], {});\n",
              "      } catch (error) {\n",
              "        console.error('Error during call to suggestCharts:', error);\n",
              "      }\n",
              "      quickchartButtonEl.classList.remove('colab-df-spinner');\n",
              "      quickchartButtonEl.classList.add('colab-df-quickchart-complete');\n",
              "    }\n",
              "    (() => {\n",
              "      let quickchartButtonEl =\n",
              "        document.querySelector('#df-f2789900-eb61-448c-9962-78cc2f915cc5 button');\n",
              "      quickchartButtonEl.style.display =\n",
              "        google.colab.kernel.accessAllowed ? 'block' : 'none';\n",
              "    })();\n",
              "  </script>\n",
              "</div>\n",
              "    </div>\n",
              "  </div>\n"
            ],
            "application/vnd.google.colaboratory.intrinsic+json": {
              "type": "dataframe",
              "variable_name": "X"
            }
          },
          "metadata": {},
          "execution_count": 66
        }
      ]
    },
    {
      "cell_type": "markdown",
      "source": [
        "\n",
        "## X | Suppression des colonnes avec beaucoup de valeurs manquantes + prise en compte que de la fillière génerale"
      ],
      "metadata": {
        "id": "E3DZDkYHZJde"
      }
    },
    {
      "cell_type": "code",
      "source": [
        "#sauvegarde des colonnes de moyennes en maths expertes des 2 premiers trimestres\n",
        "cols_expert = [ 'Moyenne candidat en Mathématiques Expertes Trimestre 1', 'Moyenne candidat en Mathématiques Expertes Trimestre 2']"
      ],
      "metadata": {
        "id": "06jRWjWC24d1"
      },
      "execution_count": 67,
      "outputs": []
    },
    {
      "cell_type": "code",
      "source": [
        "# calcul de pourcentage des valeurs manquantes par colonne\n",
        "missing_values_percentage = X.isnull().mean()\n",
        "\n",
        "# identifier les colonnes avec + de 50% de valeurs manquantes\n",
        "columns_many_nans = missing_values_percentage[missing_values_percentage >= 0.5].index\n",
        "\n",
        "# identifier les colonnes à supprimer:\n",
        "  #- celles contenant bonus\n",
        "  #- celles contenant Coefficient\n",
        "  #- celles concernant le type de saisie\n",
        "  #- Celles avec + de 50% de valeurs manquantes (on garde les colonnes de maths experte des 2 premiers trimestres)\n",
        "columns_to_drop = [item for item in columns_many_nans if item not in cols_expert]+[item for item in X.columns if 'bonus' in item.lower() or 'coefficient' in item.lower() or 'type de saisie' in item.lower()]+[\"Moyenne Maths\",\"Moyenne Physique\",\"Moyenne Info\",\"Moyenne SI\",\"Moyenne Français\",\"Moyenne LVA\",\"Moyenne Sciences\",\"Moyenne Générale pondérée\"]"
      ],
      "metadata": {
        "id": "DxxhXRqgK2Ky"
      },
      "execution_count": 68,
      "outputs": []
    },
    {
      "cell_type": "code",
      "source": [
        "#Suppression des colonnes\n",
        "X.drop(columns=columns_to_drop, inplace=True)\n",
        "\n",
        "#affichage des colonnes restantes\n",
        "print(X.columns)"
      ],
      "metadata": {
        "id": "IhGV29tuH5p2",
        "colab": {
          "base_uri": "https://localhost:8080/"
        },
        "outputId": "306b3f70-d148-40e5-d595-0b944376e3e3"
      },
      "execution_count": 69,
      "outputs": [
        {
          "output_type": "stream",
          "name": "stdout",
          "text": [
            "Index(['Type de formation.3', 'Candidat',\n",
            "       'Moyenne candidat en Physique-Chimie Spécialité Trimestre 2.1',\n",
            "       'Niveau d'étude', 'Méthode de travail', 'Série/Domaine/Filière',\n",
            "       'Capacité à s'investir',\n",
            "       'Moyenne candidat en Mathématiques Expertes Trimestre 1',\n",
            "       'Niveau d'étude.3', 'Niveau de la classe', 'Type de formation.2',\n",
            "       'Moyenne classe en Langue vivante A Trimestre 2',\n",
            "       'Moyenne classe en Langue vivante A Trimestre 2.1', 'LV A Bac',\n",
            "       'Niveau d'étude.2', 'Type de classe.1',\n",
            "       'Moyenne classe en Mathématiques Spécialité Trimestre 2.1',\n",
            "       'EDS BAC Abandonné',\n",
            "       'Moyenne classe en Mathématiques Spécialité Trimestre 1.1',\n",
            "       'Moyenne candidat en Mathématiques Spécialité Trimestre 2', 'Diplôme',\n",
            "       'Type établissement', 'Profil du candidat',\n",
            "       'Moyenne candidat en Langue vivante A Trimestre 1',\n",
            "       'Moyenne classe en Physique-Chimie Spécialité Trimestre 1.1',\n",
            "       'Moyenne candidat en Physique-Chimie Spécialité Trimestre 2',\n",
            "       'Type de formation.1', 'Moyenne candidat en Français Trimestre 2.1',\n",
            "       'Moyenne candidat en Mathématiques Expertes Trimestre 2', 'Bac + Série',\n",
            "       'Niveau d'étude.1',\n",
            "       'Moyenne classe en Mathématiques Spécialité Trimestre 2',\n",
            "       'Moyenne candidat en Mathématiques Spécialité Trimestre 2.1',\n",
            "       'Moyenne classe en Français Trimestre 1.1',\n",
            "       'Avis sur la capacité à réussir', 'Série.1',\n",
            "       'Moyenne classe en Langue vivante A Trimestre 1.1',\n",
            "       'Moyenne classe en Physique-Chimie Spécialité Trimestre 2.1',\n",
            "       'Moyenne candidat en Physique-Chimie Spécialité Trimestre 1.1',\n",
            "       'Année d'entrée en seconde', 'Moyenne classe en Français Trimestre 2.1',\n",
            "       'Type de classe', 'Académie du bac',\n",
            "       'Moyenne classe en Physique-Chimie Spécialité Trimestre 2',\n",
            "       'Sportif/Artiste confirmé', 'Sections linguistiques BAC',\n",
            "       'Moyenne classe en Mathématiques Spécialité Trimestre 1',\n",
            "       'Filière+Mention',\n",
            "       'Moyenne candidat en Mathématiques Spécialité Trimestre 1',\n",
            "       'Type de scolarité.1',\n",
            "       'Moyenne candidat en Langue vivante A Trimestre 2.1',\n",
            "       'Moyenne candidat en Mathématiques Spécialité Trimestre 1.1',\n",
            "       'Moyenne candidat en Langue vivante A Trimestre 2',\n",
            "       'Moyenne classe en Langue vivante A Trimestre 1', 'EDS BAC Terminale',\n",
            "       'Candidature validée (O/N)', 'Niveau d'étude.4',\n",
            "       'Moyenne classe en Physique-Chimie Spécialité Trimestre 1',\n",
            "       'Année scolaire.1', 'Moyenne candidat en Français Trimestre 1.1',\n",
            "       'Année scolaire', 'EDS BAC Terminale.1',\n",
            "       'Moyenne candidat en Langue vivante A Trimestre 1.1',\n",
            "       'Moyenne candidat en Physique-Chimie Spécialité Trimestre 1',\n",
            "       'Type de scolarité', 'Série diplôme', 'Type de formation', 'Série',\n",
            "       'Autonomie'],\n",
            "      dtype='object')\n"
          ]
        }
      ]
    },
    {
      "cell_type": "code",
      "source": [
        "#Prendre que les candidats de serie generale\n",
        "X=X[X['Série']=='Série Générale']\n",
        "#verifier si il reste que les candidats de filliere generale\n",
        "print(set(X['Série'].values))"
      ],
      "metadata": {
        "id": "fZ_qNUKLe88H",
        "colab": {
          "base_uri": "https://localhost:8080/"
        },
        "outputId": "fec4dee1-766e-42da-a629-e501869a4912"
      },
      "execution_count": 70,
      "outputs": [
        {
          "output_type": "stream",
          "name": "stdout",
          "text": [
            "{'Série Générale'}\n"
          ]
        }
      ]
    },
    {
      "cell_type": "markdown",
      "source": [
        "# Y (target) | concatenation de y1 et y2 (moyennes du 1er semestre L1 MIPI des 2 dernieres années)  "
      ],
      "metadata": {
        "id": "7tut58Q9ZsNy"
      }
    },
    {
      "cell_type": "code",
      "source": [
        "#renommage des colonnes qui n'ont pas le meme nom\n",
        "y1 = y1.rename(columns={'Moyenne Semestre': 'Moyenne semestre'})\n",
        "\n",
        "#concatenation de y1 et y2\n",
        "y = pd.concat([y1[['Nom', 'Moyenne semestre']].iloc[1:], y2[['Nom', 'Moyenne semestre']].iloc[1:]], ignore_index=True)\n",
        "\n",
        "#affichage\n",
        "print(y)"
      ],
      "metadata": {
        "id": "BY6y1ypwZv-m",
        "colab": {
          "base_uri": "https://localhost:8080/"
        },
        "outputId": "95bd36ae-d807-482c-ea7f-9a9b2e8f78ef"
      },
      "execution_count": 71,
      "outputs": [
        {
          "output_type": "stream",
          "name": "stdout",
          "text": [
            "                                  Nom Moyenne semestre\n",
            "0    38cb405e995fb16c29ff889d9fb6aac3           18,642\n",
            "1    cad2eeb8d4ae6d959d5b6a994b7e83d6           18,588\n",
            "2    2dfc22b23e27e80e12d20e270baddc2c           17,077\n",
            "3    9e616e548b2be2f86c4ef2605e29a56e           16,926\n",
            "4    870054d38a374a84bf60f3136a7b4dc5           16,922\n",
            "..                                ...              ...\n",
            "683  f5dc76601bc9e0320bfd7669a2b36459            0,448\n",
            "684  6c6016dc551a5af09204446eaa5fc129            2,213\n",
            "685  f10b5be961dcb3f2a068edf5a4f442a1                0\n",
            "686  c6774706e7ff6416d80975b1d42ac5cf                0\n",
            "687  09bbfbf730d4daa7ef3becd840756234            3,193\n",
            "\n",
            "[688 rows x 2 columns]\n"
          ]
        }
      ]
    },
    {
      "cell_type": "markdown",
      "source": [
        "# Merge X et Y en une seule dataframe \"df\""
      ],
      "metadata": {
        "id": "MHrHtIo2nGfi"
      }
    },
    {
      "cell_type": "code",
      "source": [
        "df = pd.merge(y, X, left_on='Nom', right_on='Candidat', how='inner')\n",
        "print(df.columns)"
      ],
      "metadata": {
        "id": "rvGQP3GznKPH",
        "colab": {
          "base_uri": "https://localhost:8080/"
        },
        "outputId": "352c053d-0bde-499d-f685-bd3ab97a41f2"
      },
      "execution_count": 72,
      "outputs": [
        {
          "output_type": "stream",
          "name": "stdout",
          "text": [
            "Index(['Nom', 'Moyenne semestre', 'Type de formation.3', 'Candidat',\n",
            "       'Moyenne candidat en Physique-Chimie Spécialité Trimestre 2.1',\n",
            "       'Niveau d'étude', 'Méthode de travail', 'Série/Domaine/Filière',\n",
            "       'Capacité à s'investir',\n",
            "       'Moyenne candidat en Mathématiques Expertes Trimestre 1',\n",
            "       'Niveau d'étude.3', 'Niveau de la classe', 'Type de formation.2',\n",
            "       'Moyenne classe en Langue vivante A Trimestre 2',\n",
            "       'Moyenne classe en Langue vivante A Trimestre 2.1', 'LV A Bac',\n",
            "       'Niveau d'étude.2', 'Type de classe.1',\n",
            "       'Moyenne classe en Mathématiques Spécialité Trimestre 2.1',\n",
            "       'EDS BAC Abandonné',\n",
            "       'Moyenne classe en Mathématiques Spécialité Trimestre 1.1',\n",
            "       'Moyenne candidat en Mathématiques Spécialité Trimestre 2', 'Diplôme',\n",
            "       'Type établissement', 'Profil du candidat',\n",
            "       'Moyenne candidat en Langue vivante A Trimestre 1',\n",
            "       'Moyenne classe en Physique-Chimie Spécialité Trimestre 1.1',\n",
            "       'Moyenne candidat en Physique-Chimie Spécialité Trimestre 2',\n",
            "       'Type de formation.1', 'Moyenne candidat en Français Trimestre 2.1',\n",
            "       'Moyenne candidat en Mathématiques Expertes Trimestre 2', 'Bac + Série',\n",
            "       'Niveau d'étude.1',\n",
            "       'Moyenne classe en Mathématiques Spécialité Trimestre 2',\n",
            "       'Moyenne candidat en Mathématiques Spécialité Trimestre 2.1',\n",
            "       'Moyenne classe en Français Trimestre 1.1',\n",
            "       'Avis sur la capacité à réussir', 'Série.1',\n",
            "       'Moyenne classe en Langue vivante A Trimestre 1.1',\n",
            "       'Moyenne classe en Physique-Chimie Spécialité Trimestre 2.1',\n",
            "       'Moyenne candidat en Physique-Chimie Spécialité Trimestre 1.1',\n",
            "       'Année d'entrée en seconde', 'Moyenne classe en Français Trimestre 2.1',\n",
            "       'Type de classe', 'Académie du bac',\n",
            "       'Moyenne classe en Physique-Chimie Spécialité Trimestre 2',\n",
            "       'Sportif/Artiste confirmé', 'Sections linguistiques BAC',\n",
            "       'Moyenne classe en Mathématiques Spécialité Trimestre 1',\n",
            "       'Filière+Mention',\n",
            "       'Moyenne candidat en Mathématiques Spécialité Trimestre 1',\n",
            "       'Type de scolarité.1',\n",
            "       'Moyenne candidat en Langue vivante A Trimestre 2.1',\n",
            "       'Moyenne candidat en Mathématiques Spécialité Trimestre 1.1',\n",
            "       'Moyenne candidat en Langue vivante A Trimestre 2',\n",
            "       'Moyenne classe en Langue vivante A Trimestre 1', 'EDS BAC Terminale',\n",
            "       'Candidature validée (O/N)', 'Niveau d'étude.4',\n",
            "       'Moyenne classe en Physique-Chimie Spécialité Trimestre 1',\n",
            "       'Année scolaire.1', 'Moyenne candidat en Français Trimestre 1.1',\n",
            "       'Année scolaire', 'EDS BAC Terminale.1',\n",
            "       'Moyenne candidat en Langue vivante A Trimestre 1.1',\n",
            "       'Moyenne candidat en Physique-Chimie Spécialité Trimestre 1',\n",
            "       'Type de scolarité', 'Série diplôme', 'Type de formation', 'Série',\n",
            "       'Autonomie'],\n",
            "      dtype='object')\n"
          ]
        }
      ]
    },
    {
      "cell_type": "markdown",
      "source": [
        "# Changement des types de données"
      ],
      "metadata": {
        "id": "dAFvRMmGyIZF"
      }
    },
    {
      "cell_type": "code",
      "source": [
        "#suppression des colonnes inutiles specifiques à un seul candidat\n",
        "df.drop(columns=['Candidat','Nom'], axis=1, inplace=True)\n",
        "df.reset_index(drop=True,inplace=True)\n",
        "\n",
        "#remplacer les ',' par un point pour convertir en numerique\n",
        "df = df.replace(',', '.', regex=True)\n",
        "#convertir en numerique\n",
        "df = df.apply(pd.to_numeric, errors='ignore')\n",
        "\n",
        "#identifier les colonnes non numeriques\n",
        "non_numeric_columns = df.select_dtypes(exclude=['number']).columns\n",
        "#les convertir en type 'category'\n",
        "for col in non_numeric_columns:\n",
        "    df[col] = df[col].astype('category')\n",
        "df.reset_index(drop=True, inplace=True)\n",
        "\n",
        "#affichage des types de données des differentes colonnes de la df\n",
        "print(df.dtypes)"
      ],
      "metadata": {
        "id": "D4RueAVkycXN",
        "colab": {
          "base_uri": "https://localhost:8080/"
        },
        "outputId": "ab6ac4c5-1abe-44d3-f4fe-22c87f9b4c44"
      },
      "execution_count": 73,
      "outputs": [
        {
          "output_type": "stream",
          "name": "stdout",
          "text": [
            "Moyenne semestre                                                 float64\n",
            "Type de formation.3                                             category\n",
            "Moyenne candidat en Physique-Chimie Spécialité Trimestre 2.1     float64\n",
            "Niveau d'étude                                                  category\n",
            "Méthode de travail                                              category\n",
            "                                                                  ...   \n",
            "Type de scolarité                                               category\n",
            "Série diplôme                                                   category\n",
            "Type de formation                                               category\n",
            "Série                                                           category\n",
            "Autonomie                                                       category\n",
            "Length: 69, dtype: object\n"
          ]
        }
      ]
    },
    {
      "cell_type": "markdown",
      "source": [
        "#Imputation des variables numériques manquantes"
      ],
      "metadata": {
        "id": "bFLaMKw5AXTI"
      }
    },
    {
      "cell_type": "code",
      "source": [
        "from sklearn.impute import SimpleImputer\n",
        "\n",
        "#prendre que les colonnes numeriques\n",
        "numerical_features = df.select_dtypes(include='number').columns.tolist()\n",
        "\n",
        "#Remplacer les valeurs manquantes par 0\n",
        "df[numerical_features] = df[numerical_features].fillna(0)\n",
        "\n",
        "#Affichage du taux de valeurs manquantes pour les colonnes numeriques (doit etre egale à 0)\n",
        "df[numerical_features].isnull().mean()"
      ],
      "metadata": {
        "id": "Vmy2OJXt6DRb",
        "colab": {
          "base_uri": "https://localhost:8080/"
        },
        "outputId": "4fa0e624-af6c-4fd3-cb85-1ed9c02e6658"
      },
      "execution_count": 74,
      "outputs": [
        {
          "output_type": "execute_result",
          "data": {
            "text/plain": [
              "Moyenne semestre                                                0.0\n",
              "Moyenne candidat en Physique-Chimie Spécialité Trimestre 2.1    0.0\n",
              "Moyenne candidat en Mathématiques Expertes Trimestre 1          0.0\n",
              "Moyenne classe en Langue vivante A Trimestre 2                  0.0\n",
              "Moyenne classe en Langue vivante A Trimestre 2.1                0.0\n",
              "Moyenne classe en Mathématiques Spécialité Trimestre 2.1        0.0\n",
              "Moyenne classe en Mathématiques Spécialité Trimestre 1.1        0.0\n",
              "Moyenne candidat en Mathématiques Spécialité Trimestre 2        0.0\n",
              "Moyenne candidat en Langue vivante A Trimestre 1                0.0\n",
              "Moyenne classe en Physique-Chimie Spécialité Trimestre 1.1      0.0\n",
              "Moyenne candidat en Physique-Chimie Spécialité Trimestre 2      0.0\n",
              "Moyenne candidat en Français Trimestre 2.1                      0.0\n",
              "Moyenne candidat en Mathématiques Expertes Trimestre 2          0.0\n",
              "Moyenne classe en Mathématiques Spécialité Trimestre 2          0.0\n",
              "Moyenne candidat en Mathématiques Spécialité Trimestre 2.1      0.0\n",
              "Moyenne classe en Français Trimestre 1.1                        0.0\n",
              "Moyenne classe en Langue vivante A Trimestre 1.1                0.0\n",
              "Moyenne classe en Physique-Chimie Spécialité Trimestre 2.1      0.0\n",
              "Moyenne candidat en Physique-Chimie Spécialité Trimestre 1.1    0.0\n",
              "Année d'entrée en seconde                                       0.0\n",
              "Moyenne classe en Français Trimestre 2.1                        0.0\n",
              "Moyenne classe en Physique-Chimie Spécialité Trimestre 2        0.0\n",
              "Moyenne classe en Mathématiques Spécialité Trimestre 1          0.0\n",
              "Moyenne candidat en Mathématiques Spécialité Trimestre 1        0.0\n",
              "Moyenne candidat en Langue vivante A Trimestre 2.1              0.0\n",
              "Moyenne candidat en Mathématiques Spécialité Trimestre 1.1      0.0\n",
              "Moyenne candidat en Langue vivante A Trimestre 2                0.0\n",
              "Moyenne classe en Langue vivante A Trimestre 1                  0.0\n",
              "Moyenne classe en Physique-Chimie Spécialité Trimestre 1        0.0\n",
              "Moyenne candidat en Français Trimestre 1.1                      0.0\n",
              "Moyenne candidat en Langue vivante A Trimestre 1.1              0.0\n",
              "Moyenne candidat en Physique-Chimie Spécialité Trimestre 1      0.0\n",
              "dtype: float64"
            ]
          },
          "metadata": {},
          "execution_count": 74
        }
      ]
    },
    {
      "cell_type": "markdown",
      "source": [
        "# Categorical encoding et imputation des variables categorielles"
      ],
      "metadata": {
        "id": "Yat76z2soZQG"
      }
    },
    {
      "cell_type": "markdown",
      "source": [
        "On remplace les valeurs manquantes par la categorie la plus frequente :"
      ],
      "metadata": {
        "id": "vcvaV__MjDkf"
      }
    },
    {
      "cell_type": "code",
      "source": [
        "#sauvegarde des noms des features categorielles\n",
        "category_features = [col for col in df.columns if col not in numerical_features]\n",
        "\n",
        "#prise de la sous-dataframe ayant que les features categorielles\n",
        "Xcat=df.loc[:,category_features]\n",
        "\n",
        "#Imputation par la categorie la plus frequente\n",
        "imp = SimpleImputer(missing_values=np.nan, strategy=\"most_frequent\")\n",
        "Xcat_imputed = pd.DataFrame(imp.fit_transform(Xcat), columns=Xcat.columns)"
      ],
      "metadata": {
        "id": "-b2XMaL5oqRG"
      },
      "execution_count": 75,
      "outputs": []
    },
    {
      "cell_type": "markdown",
      "source": [
        "Pour l'encodage on utlise le LabelEncoder afin de preserver l'ordinalité des données (les données categorielles qu'on va guarder ont une relation ordinale) :"
      ],
      "metadata": {
        "id": "Qpv13V1IhWyn"
      }
    },
    {
      "cell_type": "code",
      "source": [
        "from sklearn.preprocessing import LabelEncoder\n",
        "\n",
        "#utilisation du label encoder pour l'encodage\n",
        "encoder = LabelEncoder()\n",
        "Xcat_encoded = Xcat_imputed.apply(encoder.fit_transform)"
      ],
      "metadata": {
        "id": "zSMg7PXQ4pLh"
      },
      "execution_count": 76,
      "outputs": []
    },
    {
      "cell_type": "markdown",
      "source": [
        "# Regroupement des colonnes categories et numeriques apres suppression des valeurs manquantes"
      ],
      "metadata": {
        "id": "BOnmzuj4wIJf"
      }
    },
    {
      "cell_type": "code",
      "source": [
        "df = pd.concat([Xcat_encoded, df[numerical_features]], axis=1)\n",
        "print(df.columns)"
      ],
      "metadata": {
        "id": "VJmG77e7wN3B",
        "colab": {
          "base_uri": "https://localhost:8080/"
        },
        "outputId": "0f419477-f672-4de3-c419-01f9922b2704"
      },
      "execution_count": 77,
      "outputs": [
        {
          "output_type": "stream",
          "name": "stdout",
          "text": [
            "Index(['Type de formation.3', 'Niveau d'étude', 'Méthode de travail',\n",
            "       'Série/Domaine/Filière', 'Capacité à s'investir', 'Niveau d'étude.3',\n",
            "       'Niveau de la classe', 'Type de formation.2', 'LV A Bac',\n",
            "       'Niveau d'étude.2', 'Type de classe.1', 'EDS BAC Abandonné', 'Diplôme',\n",
            "       'Type établissement', 'Profil du candidat', 'Type de formation.1',\n",
            "       'Bac + Série', 'Niveau d'étude.1', 'Avis sur la capacité à réussir',\n",
            "       'Série.1', 'Type de classe', 'Académie du bac',\n",
            "       'Sportif/Artiste confirmé', 'Sections linguistiques BAC',\n",
            "       'Filière+Mention', 'Type de scolarité.1', 'EDS BAC Terminale',\n",
            "       'Candidature validée (O/N)', 'Niveau d'étude.4', 'Année scolaire.1',\n",
            "       'Année scolaire', 'EDS BAC Terminale.1', 'Type de scolarité',\n",
            "       'Série diplôme', 'Type de formation', 'Série', 'Autonomie',\n",
            "       'Moyenne semestre',\n",
            "       'Moyenne candidat en Physique-Chimie Spécialité Trimestre 2.1',\n",
            "       'Moyenne candidat en Mathématiques Expertes Trimestre 1',\n",
            "       'Moyenne classe en Langue vivante A Trimestre 2',\n",
            "       'Moyenne classe en Langue vivante A Trimestre 2.1',\n",
            "       'Moyenne classe en Mathématiques Spécialité Trimestre 2.1',\n",
            "       'Moyenne classe en Mathématiques Spécialité Trimestre 1.1',\n",
            "       'Moyenne candidat en Mathématiques Spécialité Trimestre 2',\n",
            "       'Moyenne candidat en Langue vivante A Trimestre 1',\n",
            "       'Moyenne classe en Physique-Chimie Spécialité Trimestre 1.1',\n",
            "       'Moyenne candidat en Physique-Chimie Spécialité Trimestre 2',\n",
            "       'Moyenne candidat en Français Trimestre 2.1',\n",
            "       'Moyenne candidat en Mathématiques Expertes Trimestre 2',\n",
            "       'Moyenne classe en Mathématiques Spécialité Trimestre 2',\n",
            "       'Moyenne candidat en Mathématiques Spécialité Trimestre 2.1',\n",
            "       'Moyenne classe en Français Trimestre 1.1',\n",
            "       'Moyenne classe en Langue vivante A Trimestre 1.1',\n",
            "       'Moyenne classe en Physique-Chimie Spécialité Trimestre 2.1',\n",
            "       'Moyenne candidat en Physique-Chimie Spécialité Trimestre 1.1',\n",
            "       'Année d'entrée en seconde', 'Moyenne classe en Français Trimestre 2.1',\n",
            "       'Moyenne classe en Physique-Chimie Spécialité Trimestre 2',\n",
            "       'Moyenne classe en Mathématiques Spécialité Trimestre 1',\n",
            "       'Moyenne candidat en Mathématiques Spécialité Trimestre 1',\n",
            "       'Moyenne candidat en Langue vivante A Trimestre 2.1',\n",
            "       'Moyenne candidat en Mathématiques Spécialité Trimestre 1.1',\n",
            "       'Moyenne candidat en Langue vivante A Trimestre 2',\n",
            "       'Moyenne classe en Langue vivante A Trimestre 1',\n",
            "       'Moyenne classe en Physique-Chimie Spécialité Trimestre 1',\n",
            "       'Moyenne candidat en Français Trimestre 1.1',\n",
            "       'Moyenne candidat en Langue vivante A Trimestre 1.1',\n",
            "       'Moyenne candidat en Physique-Chimie Spécialité Trimestre 1'],\n",
            "      dtype='object')\n"
          ]
        }
      ]
    },
    {
      "cell_type": "markdown",
      "source": [
        "# Feature selection"
      ],
      "metadata": {
        "id": "HQ9LPt8B17V_"
      }
    },
    {
      "cell_type": "markdown",
      "source": [
        "Etant donné que les modèles linéaires supposent des relations linéaires entre les variables, on procède à évaluer la corrélation linéaire entre chaque variable et la variable cible (dans ce cas, la moyenne semestrielle).\n",
        "\n",
        "Cela permet de déterminer si une relation linéaire existe entre les variables et si elles sont potentiellement appropriées pour être incluses dans un modèle de régression linéaire :"
      ],
      "metadata": {
        "id": "n4YxTvKejSCZ"
      }
    },
    {
      "cell_type": "code",
      "source": [
        "#calcul de la correlation lineaire entre les colonnes et la colonne à predire (moyenne semestre)\n",
        "cor = df.corr()\n",
        "cor\n",
        "cor_target = abs(cor[\"Moyenne semestre\"])\n",
        "\n",
        "#selectionner les colonnes fortement correlées avec moyenne semestre (col à predire)\n",
        "relevant_features = cor_target[cor_target>0.2]\n",
        "print(relevant_features)"
      ],
      "metadata": {
        "id": "ijNeSKQi2BIS",
        "colab": {
          "base_uri": "https://localhost:8080/"
        },
        "outputId": "01479fe5-a83f-4afe-9c0a-0db2d66e20f2"
      },
      "execution_count": 78,
      "outputs": [
        {
          "output_type": "stream",
          "name": "stdout",
          "text": [
            "Méthode de travail                                              0.398970\n",
            "Capacité à s'investir                                           0.416678\n",
            "Avis sur la capacité à réussir                                  0.397731\n",
            "Année scolaire                                                  0.248136\n",
            "Autonomie                                                       0.423108\n",
            "Moyenne semestre                                                1.000000\n",
            "Moyenne candidat en Physique-Chimie Spécialité Trimestre 2.1    0.219220\n",
            "Moyenne candidat en Mathématiques Expertes Trimestre 1          0.289377\n",
            "Moyenne candidat en Mathématiques Spécialité Trimestre 2        0.344399\n",
            "Moyenne candidat en Physique-Chimie Spécialité Trimestre 2      0.310405\n",
            "Moyenne candidat en Mathématiques Expertes Trimestre 2          0.291986\n",
            "Moyenne candidat en Mathématiques Spécialité Trimestre 2.1      0.211212\n",
            "Moyenne candidat en Physique-Chimie Spécialité Trimestre 1.1    0.293398\n",
            "Moyenne candidat en Mathématiques Spécialité Trimestre 1        0.477268\n",
            "Moyenne candidat en Mathématiques Spécialité Trimestre 1.1      0.335248\n",
            "Moyenne candidat en Français Trimestre 1.1                      0.213407\n",
            "Moyenne candidat en Physique-Chimie Spécialité Trimestre 1      0.307208\n",
            "Name: Moyenne semestre, dtype: float64\n"
          ]
        }
      ]
    },
    {
      "cell_type": "code",
      "source": [
        "df = df[list(relevant_features.index)]"
      ],
      "metadata": {
        "id": "sfyKqM5V7PzZ"
      },
      "execution_count": 79,
      "outputs": []
    },
    {
      "cell_type": "markdown",
      "source": [
        "On affiche les differentes **correlations** entre les colonnes à travers une **heatmap** :"
      ],
      "metadata": {
        "id": "wkHrXen-4Egm"
      }
    },
    {
      "cell_type": "code",
      "source": [
        "'''\n",
        "import seaborn as sns\n",
        "import matplotlib.pyplot as plt\n",
        "\n",
        "#Plot heatmap\n",
        "plt.figure(figsize=(10,8))\n",
        "sns.heatmap(cor, annot=True, cmap=plt.cm.Reds)\n",
        "plt.title(\"Correlation Heatmap\")\n",
        "plt.show()\n",
        "'''"
      ],
      "metadata": {
        "colab": {
          "base_uri": "https://localhost:8080/",
          "height": 52
        },
        "id": "eRZ7Phqbwe72",
        "outputId": "a9b4482b-bd18-450f-fe45-3ab0f7031eb8"
      },
      "execution_count": 80,
      "outputs": [
        {
          "output_type": "execute_result",
          "data": {
            "text/plain": [
              "'\\nimport seaborn as sns\\nimport matplotlib.pyplot as plt\\n\\n#Plot heatmap\\nplt.figure(figsize=(10,8))\\nsns.heatmap(cor, annot=True, cmap=plt.cm.Reds)\\nplt.title(\"Correlation Heatmap\")\\nplt.show()\\n'"
            ],
            "application/vnd.google.colaboratory.intrinsic+json": {
              "type": "string"
            }
          },
          "metadata": {},
          "execution_count": 80
        }
      ]
    },
    {
      "cell_type": "markdown",
      "source": [
        "# Identification des colonnes de calcul de la moyenne"
      ],
      "metadata": {
        "id": "5lWEb6y55fxi"
      }
    },
    {
      "cell_type": "markdown",
      "source": [
        "On affiche les matières restantes (moin de 50% de valeurs NULL et correlation superieure au seuil) :"
      ],
      "metadata": {
        "id": "bFH_XGzE5mqF"
      }
    },
    {
      "cell_type": "code",
      "source": [
        "print([col for col in df.columns if 'Moyenne candidat' in col])"
      ],
      "metadata": {
        "colab": {
          "base_uri": "https://localhost:8080/"
        },
        "id": "tG6xXp8Bxja_",
        "outputId": "71d824bf-9280-4965-ceab-15bf962e0361"
      },
      "execution_count": 81,
      "outputs": [
        {
          "output_type": "stream",
          "name": "stdout",
          "text": [
            "['Moyenne candidat en Physique-Chimie Spécialité Trimestre 2.1', 'Moyenne candidat en Mathématiques Expertes Trimestre 1', 'Moyenne candidat en Mathématiques Spécialité Trimestre 2', 'Moyenne candidat en Physique-Chimie Spécialité Trimestre 2', 'Moyenne candidat en Mathématiques Expertes Trimestre 2', 'Moyenne candidat en Mathématiques Spécialité Trimestre 2.1', 'Moyenne candidat en Physique-Chimie Spécialité Trimestre 1.1', 'Moyenne candidat en Mathématiques Spécialité Trimestre 1', 'Moyenne candidat en Mathématiques Spécialité Trimestre 1.1', 'Moyenne candidat en Français Trimestre 1.1', 'Moyenne candidat en Physique-Chimie Spécialité Trimestre 1']\n"
          ]
        }
      ]
    },
    {
      "cell_type": "markdown",
      "source": [
        "Colonnes à utiliser pour le calcul des moyennes, on prend en consideration que celles des 2 premiers trimestres (terminale et première), on va utiliser 2 matières:\n",
        "* Math : math Experte et math specialité\n",
        "* Physique : Les moyennes de physique-chimie"
      ],
      "metadata": {
        "id": "q63uL0xZ5r_Y"
      }
    },
    {
      "cell_type": "markdown",
      "source": [
        "1) Maths :"
      ],
      "metadata": {
        "id": "pK9cN-1a6Jrv"
      }
    },
    {
      "cell_type": "code",
      "source": [
        "#colonnes à utiliser pour le calcul de la moyenne des maths\n",
        "first_s_math=['Moyenne candidat en Mathématiques Expertes Trimestre 1','Moyenne candidat en Mathématiques Spécialité Trimestre 1']\n",
        "second_s_math=['Moyenne candidat en Mathématiques Expertes Trimestre 2','Moyenne candidat en Mathématiques Spécialité Trimestre 2']\n",
        "\n",
        "#regroupement en une liste\n",
        "cols_maths=first_s_math+second_s_math"
      ],
      "metadata": {
        "id": "iR8e5rhbyV4F"
      },
      "execution_count": 82,
      "outputs": []
    },
    {
      "cell_type": "markdown",
      "source": [
        "2) Physique :"
      ],
      "metadata": {
        "id": "6xIidKqa6MJ8"
      }
    },
    {
      "cell_type": "code",
      "source": [
        "#colonnes à utiliser pour le calcul de la moyenne de physique\n",
        "first_s_phsq=['Moyenne candidat en Physique-Chimie Spécialité Trimestre 1']\n",
        "second_s_phsq=['Moyenne candidat en Physique-Chimie Spécialité Trimestre 2']\n",
        "\n",
        "#regroupement en une liste\n",
        "cols_phsq=first_s_phsq+second_s_phsq"
      ],
      "metadata": {
        "id": "l3UPhSQDyd6Z"
      },
      "execution_count": 83,
      "outputs": []
    },
    {
      "cell_type": "markdown",
      "source": [
        "*3) Colonnes de première* :"
      ],
      "metadata": {
        "id": "QSF9KkON6RUb"
      }
    },
    {
      "cell_type": "code",
      "source": [
        "cols_math_premiere = ['Moyenne candidat en Mathématiques Spécialité Trimestre 1.1', 'Moyenne candidat en Mathématiques Spécialité Trimestre 2.1']\n",
        "cols_phsq_premiere = ['Moyenne candidat en Physique-Chimie Spécialité Trimestre 1.1', 'Moyenne candidat en Physique-Chimie Spécialité Trimestre 2.1']"
      ],
      "metadata": {
        "id": "Fow9ZUulBXN7"
      },
      "execution_count": 84,
      "outputs": []
    },
    {
      "cell_type": "markdown",
      "source": [
        "# Outliers"
      ],
      "metadata": {
        "id": "TGYRylOPxrwv"
      }
    },
    {
      "cell_type": "markdown",
      "source": [
        "Afin de détecter et substituer les valeurs aberrantes dans les données, nous utilisons le test de Shapiro-Wilk pour étudier d'abord la distribution des données, puis pour déterminer les limites (inférieure et supérieure) à utiliser lors de la substitution :"
      ],
      "metadata": {
        "id": "5y2GEMgwk-4y"
      }
    },
    {
      "cell_type": "code",
      "source": [
        "from scipy.stats import shapiro\n",
        "\n",
        "# Shapiro-Wilk test pour tester la normalité (destribution gasussienne)\n",
        "alpha=0.05 #limite pour dire si la distribution est gaussienne ou pas\n",
        "std_cols=[]\n",
        "iqr_cols=[]\n",
        "for col in df.columns:\n",
        "  stat, p_value = shapiro(df[col])\n",
        "  if p_value > alpha:\n",
        "    std_cols.append(col)\n",
        "  else:\n",
        "    iqr_cols.append(col)\n",
        "    # la colonne a une distribution presque gaussienne\n",
        "print(std_cols)\n",
        "print(iqr_cols)\n"
      ],
      "metadata": {
        "colab": {
          "base_uri": "https://localhost:8080/"
        },
        "id": "vqMxDPWAzx6d",
        "outputId": "12c247f9-9b87-4c49-c419-a4254d8033e1"
      },
      "execution_count": 85,
      "outputs": [
        {
          "output_type": "stream",
          "name": "stdout",
          "text": [
            "[]\n",
            "['Méthode de travail', \"Capacité à s'investir\", 'Avis sur la capacité à réussir', 'Année scolaire', 'Autonomie', 'Moyenne semestre', 'Moyenne candidat en Physique-Chimie Spécialité Trimestre 2.1', 'Moyenne candidat en Mathématiques Expertes Trimestre 1', 'Moyenne candidat en Mathématiques Spécialité Trimestre 2', 'Moyenne candidat en Physique-Chimie Spécialité Trimestre 2', 'Moyenne candidat en Mathématiques Expertes Trimestre 2', 'Moyenne candidat en Mathématiques Spécialité Trimestre 2.1', 'Moyenne candidat en Physique-Chimie Spécialité Trimestre 1.1', 'Moyenne candidat en Mathématiques Spécialité Trimestre 1', 'Moyenne candidat en Mathématiques Spécialité Trimestre 1.1', 'Moyenne candidat en Français Trimestre 1.1', 'Moyenne candidat en Physique-Chimie Spécialité Trimestre 1']\n"
          ]
        }
      ]
    },
    {
      "cell_type": "code",
      "source": [
        "import seaborn as sns\n",
        "import matplotlib.pyplot as plt\n",
        "# boxplot d'une colonne avant de suppression d'outliers\n",
        "plt.figure(figsize=(10, 6))\n",
        "plt.subplot(1, 2, 1)  # Creating subplots\n",
        "sns.boxplot(y=df['Moyenne candidat en Mathématiques Spécialité Trimestre 1'])\n",
        "plt.title('Boxplot Avant substitution des outliers')"
      ],
      "metadata": {
        "colab": {
          "base_uri": "https://localhost:8080/",
          "height": 543
        },
        "id": "l4SzgP2CBucP",
        "outputId": "c47e96b4-d726-4bfe-f030-3fac8f634c11"
      },
      "execution_count": 86,
      "outputs": [
        {
          "output_type": "execute_result",
          "data": {
            "text/plain": [
              "Text(0.5, 1.0, 'Boxplot Avant substitution des outliers')"
            ]
          },
          "metadata": {},
          "execution_count": 86
        },
        {
          "output_type": "display_data",
          "data": {
            "text/plain": [
              "<Figure size 1000x600 with 1 Axes>"
            ],
            "image/png": "[encoded data removed]"
          },
          "metadata": {}
        }
      ]
    },
    {
      "cell_type": "code",
      "source": [
        "def bornes_iqr(dataframe, col_name, th1=0.25, th3=0.75): #pour les colonnes non normalement destribuées (methode IQR)\n",
        "    quartile1 = dataframe[col_name].quantile(th1)\n",
        "    quartile3 = dataframe[col_name].quantile(th3)\n",
        "    iqr = quartile3 - quartile1\n",
        "    borne_sup = quartile3 + 1.5 * iqr\n",
        "    borne_inf = quartile1 - 1.5 * iqr\n",
        "    return borne_inf, borne_sup\n",
        "\n",
        "\n",
        "\n",
        "def bornes_std(dataframe, col_name): #pour les colonnes normalement destribuées (utiliser la moyenne et la variance)\n",
        "    borne_sup = dataframe[col_name].mean() + 3 * dataframe[col_name].std()\n",
        "    borne_inf = dataframe[col_name].mean() - 3 * dataframe[col_name].std()\n",
        "    return borne_inf, borne_sup\n",
        "\n",
        "\n",
        "#pour verifier si une colonne possède des outliers\n",
        "def check_col_has_outliers(dataframe, col_name, iqr=True): #par defaut iqr, sinon std\n",
        "    #obtention des valeurs des bornes selon le cas (paramètre iqr)\n",
        "    if iqr:\n",
        "      borne_inf, borne_sup = bornes_iqr(dataframe, col_name)\n",
        "    else:\n",
        "      borne_inf, borne_sup = bornes_std(dataframe, col_name)\n",
        "    #verifier si il existe une valeur dans la dataframe en dehors de l'interval des bornes\n",
        "    if dataframe[(dataframe[col_name] > borne_sup) | (dataframe[col_name] < borne_inf)].any(axis=None):\n",
        "        return True\n",
        "    else:\n",
        "        return False"
      ],
      "metadata": {
        "id": "w0qwJuIh5VuO"
      },
      "execution_count": 87,
      "outputs": []
    },
    {
      "cell_type": "code",
      "source": [
        "#remplacement des outliers par les bornes\n",
        "def remplacer_avec_bornes(dataframe,cols, th1=0.25, th3=0.75, iqr=True):\n",
        "    for col in cols:\n",
        "          outliers_ = check_col_has_outliers(df,col)\n",
        "          count = 0\n",
        "          if iqr:\n",
        "            borne_inf, borne_sup = bornes_iqr(dataframe, col, th1, th3)\n",
        "          else:\n",
        "            borne_inf, borne_sup = bornes_std(dataframe, col)\n",
        "          if outliers_:\n",
        "              count = dataframe[(dataframe[col] > borne_sup) | (dataframe[col] < borne_inf)][col].count()\n",
        "              dataframe[col].where(dataframe[col] > borne_inf, borne_inf, inplace=True)\n",
        "              dataframe[col].where(dataframe[col] < borne_sup, borne_sup, inplace=True)"
      ],
      "metadata": {
        "id": "KWvGnnaa-2MK"
      },
      "execution_count": 88,
      "outputs": []
    },
    {
      "cell_type": "code",
      "source": [
        "#application de l'iqr (cas de colonnes non normalement destribuées)\n",
        "remplacer_avec_bornes(df, iqr_cols, th1=0.25, th3=0.75, iqr=True)\n",
        "print(df.describe())"
      ],
      "metadata": {
        "id": "LjB7f7rs-5iM",
        "colab": {
          "base_uri": "https://localhost:8080/"
        },
        "outputId": "a61473ee-ad2c-4900-f348-fe272a48e09a"
      },
      "execution_count": 89,
      "outputs": [
        {
          "output_type": "stream",
          "name": "stdout",
          "text": [
            "       Méthode de travail  Capacité à s'investir  \\\n",
            "count          207.000000             207.000000   \n",
            "mean             1.594203               1.826087   \n",
            "std              1.136151               1.065202   \n",
            "min              0.000000               0.000000   \n",
            "25%              0.000000               1.000000   \n",
            "50%              2.000000               2.000000   \n",
            "75%              2.000000               3.000000   \n",
            "max              3.000000               3.000000   \n",
            "\n",
            "       Avis sur la capacité à réussir  Année scolaire   Autonomie  \\\n",
            "count                      207.000000      207.000000  207.000000   \n",
            "mean                         1.888889        0.729469    1.763285   \n",
            "std                          1.207671        0.445311    1.122153   \n",
            "min                          0.000000        0.000000    0.000000   \n",
            "25%                          1.000000        0.000000    1.000000   \n",
            "50%                          2.000000        1.000000    2.000000   \n",
            "75%                          3.000000        1.000000    3.000000   \n",
            "max                          3.000000        1.000000    3.000000   \n",
            "\n",
            "       Moyenne semestre  \\\n",
            "count        207.000000   \n",
            "mean           7.786558   \n",
            "std            4.267620   \n",
            "min            0.000000   \n",
            "25%            4.566500   \n",
            "50%            8.024000   \n",
            "75%           11.118500   \n",
            "max           18.588000   \n",
            "\n",
            "       Moyenne candidat en Physique-Chimie Spécialité Trimestre 2.1  \\\n",
            "count                                         207.000000              \n",
            "mean                                            8.946763              \n",
            "std                                             5.351358              \n",
            "min                                             0.000000              \n",
            "25%                                             6.405000              \n",
            "50%                                             9.500000              \n",
            "75%                                            12.880000              \n",
            "max                                            19.200000              \n",
            "\n",
            "       Moyenne candidat en Mathématiques Expertes Trimestre 1  \\\n",
            "count                                         207.000000        \n",
            "mean                                            4.649179        \n",
            "std                                             6.326237        \n",
            "min                                             0.000000        \n",
            "25%                                             0.000000        \n",
            "50%                                             0.000000        \n",
            "75%                                            11.085000        \n",
            "max                                            19.500000        \n",
            "\n",
            "       Moyenne candidat en Mathématiques Spécialité Trimestre 2  \\\n",
            "count                                         207.000000          \n",
            "mean                                            8.779662          \n",
            "std                                             5.153381          \n",
            "min                                             0.000000          \n",
            "25%                                             5.865000          \n",
            "50%                                             9.570000          \n",
            "75%                                            12.300000          \n",
            "max                                            19.070000          \n",
            "\n",
            "       Moyenne candidat en Physique-Chimie Spécialité Trimestre 2  \\\n",
            "count                                         207.000000            \n",
            "mean                                            5.753575            \n",
            "std                                             5.582896            \n",
            "min                                             0.000000            \n",
            "25%                                             0.000000            \n",
            "50%                                             6.500000            \n",
            "75%                                            10.400000            \n",
            "max                                            18.190000            \n",
            "\n",
            "       Moyenne candidat en Mathématiques Expertes Trimestre 2  \\\n",
            "count                                         207.000000        \n",
            "mean                                            4.100531        \n",
            "std                                             6.163048        \n",
            "min                                             0.000000        \n",
            "25%                                             0.000000        \n",
            "50%                                             0.000000        \n",
            "75%                                            10.000000        \n",
            "max                                            19.750000        \n",
            "\n",
            "       Moyenne candidat en Mathématiques Spécialité Trimestre 2.1  \\\n",
            "count                                         207.000000            \n",
            "mean                                           10.887150            \n",
            "std                                             4.408599            \n",
            "min                                             0.375000            \n",
            "25%                                             8.550000            \n",
            "50%                                            11.600000            \n",
            "75%                                            14.000000            \n",
            "max                                            19.100000            \n",
            "\n",
            "       Moyenne candidat en Physique-Chimie Spécialité Trimestre 1.1  \\\n",
            "count                                         207.000000              \n",
            "mean                                            9.601014              \n",
            "std                                             4.818176              \n",
            "min                                             0.060000              \n",
            "25%                                             7.665000              \n",
            "50%                                            10.900000              \n",
            "75%                                            12.735000              \n",
            "max                                            20.000000              \n",
            "\n",
            "       Moyenne candidat en Mathématiques Spécialité Trimestre 1  \\\n",
            "count                                         207.000000          \n",
            "mean                                           10.816329          \n",
            "std                                             3.633104          \n",
            "min                                             1.655000          \n",
            "25%                                             8.675000          \n",
            "50%                                            11.000000          \n",
            "75%                                            13.355000          \n",
            "max                                            19.110000          \n",
            "\n",
            "       Moyenne candidat en Mathématiques Spécialité Trimestre 1.1  \\\n",
            "count                                         207.000000            \n",
            "mean                                           11.620145            \n",
            "std                                             3.665314            \n",
            "min                                             2.100000            \n",
            "25%                                             9.390000            \n",
            "50%                                            11.950000            \n",
            "75%                                            14.250000            \n",
            "max                                            20.000000            \n",
            "\n",
            "       Moyenne candidat en Français Trimestre 1.1  \\\n",
            "count                                  207.000000   \n",
            "mean                                    10.695411   \n",
            "std                                      2.771363   \n",
            "min                                      3.535000   \n",
            "25%                                      8.950000   \n",
            "50%                                     10.700000   \n",
            "75%                                     12.560000   \n",
            "max                                     17.000000   \n",
            "\n",
            "       Moyenne candidat en Physique-Chimie Spécialité Trimestre 1  \n",
            "count                                         207.000000           \n",
            "mean                                            6.954251           \n",
            "std                                             5.499679           \n",
            "min                                             0.000000           \n",
            "25%                                             0.000000           \n",
            "50%                                             8.200000           \n",
            "75%                                            11.100000           \n",
            "max                                            19.660000           \n"
          ]
        }
      ]
    },
    {
      "cell_type": "code",
      "source": [
        "#remplacement dans le cas des colonnes normalement destribuées\n",
        "remplacer_avec_bornes(df, std_cols, th1=0.25, th3=0.75, iqr=False)"
      ],
      "metadata": {
        "id": "SvyGQbkdB1Wy"
      },
      "execution_count": 90,
      "outputs": []
    },
    {
      "cell_type": "code",
      "source": [
        "# boxplot de la meme colonne après la suppression des outliers\n",
        "plt.figure(figsize=(10, 6))\n",
        "plt.subplot(1, 2, 1)  # Creating subplots\n",
        "sns.boxplot(y=df['Moyenne candidat en Mathématiques Spécialité Trimestre 1'])\n",
        "plt.title('Boxplot après substitution des outliers')"
      ],
      "metadata": {
        "colab": {
          "base_uri": "https://localhost:8080/",
          "height": 543
        },
        "id": "JirENyJWEHRG",
        "outputId": "8db8146f-f3fc-4e9a-b7b7-a49fc6f74a67"
      },
      "execution_count": 91,
      "outputs": [
        {
          "output_type": "execute_result",
          "data": {
            "text/plain": [
              "Text(0.5, 1.0, 'Boxplot après substitution des outliers')"
            ]
          },
          "metadata": {},
          "execution_count": 91
        },
        {
          "output_type": "display_data",
          "data": {
            "text/plain": [
              "<Figure size 1000x600 with 1 Axes>"
            ],
            "image/png": "[encoded data removed]"
          },
          "metadata": {}
        }
      ]
    },
    {
      "cell_type": "markdown",
      "source": [
        "# Normalization"
      ],
      "metadata": {
        "id": "05dZfEyFtzL8"
      }
    },
    {
      "cell_type": "markdown",
      "source": [
        "Afin de mettre l'ensemble des données sur la même échelle, nous utilisons le **StandardScaler**, qui va standardiser les données en soustrayant la moyenne et en divisant par l'écart-type de chaque caractéristique. Cela permet d'éviter que les caractéristiques ayant des échelles différentes ne dominent indûment le modèle :"
      ],
      "metadata": {
        "id": "r8c0GTZTlpqh"
      }
    },
    {
      "cell_type": "code",
      "source": [
        "#enlever la colonne à predire \"moyenne semestre\"\n",
        "y=df['Moyenne semestre']\n",
        "X=df.drop(['Moyenne semestre'],axis=1)\n",
        "\n",
        "print(y)"
      ],
      "metadata": {
        "id": "7VGL8DIxNfG2",
        "colab": {
          "base_uri": "https://localhost:8080/"
        },
        "outputId": "d718af6a-0cd5-4ad9-e043-9f9027988fd9"
      },
      "execution_count": 92,
      "outputs": [
        {
          "output_type": "stream",
          "name": "stdout",
          "text": [
            "0      18.588\n",
            "1      16.926\n",
            "2      16.922\n",
            "3      16.907\n",
            "4      15.532\n",
            "        ...  \n",
            "202     0.909\n",
            "203     0.000\n",
            "204     2.213\n",
            "205     0.000\n",
            "206     0.000\n",
            "Name: Moyenne semestre, Length: 207, dtype: float64\n"
          ]
        }
      ]
    },
    {
      "cell_type": "code",
      "source": [
        "from sklearn import preprocessing\n",
        "\n",
        "#normaliser les colonnes qu'on va utiliser lors de l'entrainement\n",
        "scaler = preprocessing.StandardScaler().fit(X)\n",
        "X_scaled = pd.DataFrame(scaler.transform(X), columns=X.columns)"
      ],
      "metadata": {
        "id": "sM1LBc4Gu4dx"
      },
      "execution_count": 93,
      "outputs": []
    },
    {
      "cell_type": "markdown",
      "source": [
        "Si la mise à l'échelle a été réussie, on devrait observer des moyennes proches de 0 et des écarts-types proches de 1 :"
      ],
      "metadata": {
        "id": "Qcg4g_XVnIrR"
      }
    },
    {
      "cell_type": "code",
      "source": [
        "#calcul de la moyenne\n",
        "mean_values = X_scaled.mean()\n",
        "\n",
        "#calcul de l'ecart-type\n",
        "std_values = X_scaled.std()\n",
        "\n",
        "#affichage\n",
        "print(\"Moyennes:\")\n",
        "print(mean_values)\n",
        "print(\"\\necart-types :\")\n",
        "print(std_values)"
      ],
      "metadata": {
        "id": "8zzYWpntm9a4",
        "colab": {
          "base_uri": "https://localhost:8080/"
        },
        "outputId": "16240e84-005d-4dcb-c01f-94a15329517c"
      },
      "execution_count": 101,
      "outputs": [
        {
          "output_type": "stream",
          "name": "stdout",
          "text": [
            "Moyennes:\n",
            "Méthode de travail                                             -3.432574e-17\n",
            "Capacité à s'investir                                           1.029772e-16\n",
            "Avis sur la capacité à réussir                                  6.865147e-17\n",
            "Année scolaire                                                 -2.059544e-16\n",
            "Autonomie                                                      -3.432574e-17\n",
            "Moyenne candidat en Physique-Chimie Spécialité Trimestre 2.1    6.865147e-17\n",
            "Moyenne candidat en Mathématiques Expertes Trimestre 1         -1.029772e-16\n",
            "Moyenne candidat en Mathématiques Spécialité Trimestre 2       -2.402802e-16\n",
            "Moyenne candidat en Physique-Chimie Spécialité Trimestre 2      3.432574e-17\n",
            "Moyenne candidat en Mathématiques Expertes Trimestre 2          2.402802e-16\n",
            "Moyenne candidat en Mathématiques Spécialité Trimestre 2.1     -2.231173e-16\n",
            "Moyenne candidat en Physique-Chimie Spécialité Trimestre 1.1    2.746059e-16\n",
            "Moyenne candidat en Mathématiques Spécialité Trimestre 1        0.000000e+00\n",
            "Moyenne candidat en Mathématiques Spécialité Trimestre 1.1      3.089316e-16\n",
            "Moyenne candidat en Français Trimestre 1.1                     -2.746059e-16\n",
            "Moyenne candidat en Physique-Chimie Spécialité Trimestre 1      3.432574e-17\n",
            "dtype: float64\n",
            "\n",
            "ecart-types :\n",
            "Méthode de travail                                              1.002424\n",
            "Capacité à s'investir                                           1.002424\n",
            "Avis sur la capacité à réussir                                  1.002424\n",
            "Année scolaire                                                  1.002424\n",
            "Autonomie                                                       1.002424\n",
            "Moyenne candidat en Physique-Chimie Spécialité Trimestre 2.1    1.002424\n",
            "Moyenne candidat en Mathématiques Expertes Trimestre 1          1.002424\n",
            "Moyenne candidat en Mathématiques Spécialité Trimestre 2        1.002424\n",
            "Moyenne candidat en Physique-Chimie Spécialité Trimestre 2      1.002424\n",
            "Moyenne candidat en Mathématiques Expertes Trimestre 2          1.002424\n",
            "Moyenne candidat en Mathématiques Spécialité Trimestre 2.1      1.002424\n",
            "Moyenne candidat en Physique-Chimie Spécialité Trimestre 1.1    1.002424\n",
            "Moyenne candidat en Mathématiques Spécialité Trimestre 1        1.002424\n",
            "Moyenne candidat en Mathématiques Spécialité Trimestre 1.1      1.002424\n",
            "Moyenne candidat en Français Trimestre 1.1                      1.002424\n",
            "Moyenne candidat en Physique-Chimie Spécialité Trimestre 1      1.002424\n",
            "dtype: float64\n"
          ]
        }
      ]
    },
    {
      "cell_type": "markdown",
      "source": [
        "# Pondération"
      ],
      "metadata": {
        "id": "N0ZrWPnNnkRE"
      }
    },
    {
      "cell_type": "markdown",
      "source": [
        "Une fonction qui nous calcule la moyenne d'un candidat :\n",
        "\n",
        "**Mathémariques :**\n",
        "* pond_maths_p : ponderation de la moyenne de mathematiques de première pour le calcul de la moyenne generale\n",
        "* pond_maths_t : ponderation de la moyenne de mathematiques de la terminale pour le calcul de la moyenne generale\n",
        "\n",
        "**Physique :**\n",
        "* pond_physique_p : ponderation de la matiere physique de la première pour le calcule de la moyenne generale du candidat\n",
        "* pond_physique_t : ponderation de la matiere physique de la terminale pour le calcule de la moyenne generale du candidat"
      ],
      "metadata": {
        "id": "VCiYN5Te-GUX"
      }
    },
    {
      "cell_type": "code",
      "source": [
        "def calculer_moyenne(df, pond_maths_t, pond_physique_t, pond_maths_p, pond_physique_p):\n",
        "\n",
        "  ## 1- moyenne terminale\n",
        "    df['Moyenne maths terminale'] = (df[first_s_math[1]]+df[second_s_math[1]])/2\n",
        "    df['Moyenne physique terminale']=(df[first_s_phsq[0]]+df[second_s_phsq[0]])/2\n",
        "    df['Moyenne terminale'] = (pond_maths_t*df['Moyenne maths terminale'] + pond_physique_t*df['Moyenne physique terminale']) / (pond_maths_t + pond_physique_t)\n",
        "\n",
        "  ## 2- moyene premiere\n",
        "    df['Moyenne maths premiere']=(df[cols_math_premiere[0]]+df[cols_math_premiere[1]])/2\n",
        "    df['Moyenne physique premiere']=(df[cols_phsq_premiere[0]]+df[cols_phsq_premiere[1]])/2\n",
        "    df['Moyenne premiere']=(pond_maths_p*df['Moyenne maths premiere']+pond_physique_p*df['Moyenne physique premiere'])/(pond_maths_p+pond_physique_p)\n",
        "\n",
        "  ## 3-renvoyer la moyenne des 2 années\n",
        "    return df[['Moyenne premiere','Moyenne terminale']]"
      ],
      "metadata": {
        "id": "ZVeVeycF7BcL"
      },
      "execution_count": 95,
      "outputs": []
    },
    {
      "cell_type": "markdown",
      "source": [
        "# Entrainement"
      ],
      "metadata": {
        "id": "u7HpcNRrIxmp"
      }
    },
    {
      "cell_type": "markdown",
      "source": [
        "On definit la classe du modele de regression lineaire personalisé, avec les ponderation comme parametres en plus, et les methodes de la classe modifiée :"
      ],
      "metadata": {
        "id": "FAnKwUEiEGcP"
      }
    },
    {
      "cell_type": "code",
      "source": [
        "from sklearn.linear_model import LinearRegression\n",
        "from sklearn.model_selection import GridSearchCV\n",
        "from sklearn.base import BaseEstimator\n",
        "from sklearn.metrics import r2_score\n",
        "\n",
        "class LinearRegressorAvecPonderations(BaseEstimator):\n",
        "    def __init__(self, pond_maths_t=3, pond_physique_t=1, pond_maths_p=4, pond_physique_p=1):\n",
        "        self.pond_maths_t = pond_maths_t\n",
        "        self.pond_physique_t = pond_physique_t\n",
        "        self.pond_maths_p = pond_maths_p\n",
        "        self.pond_physique_p = pond_physique_p\n",
        "        self.model = None\n",
        "\n",
        "    def fit(self, X, y):\n",
        "        self.model = LinearRegression(fit_intercept=True)\n",
        "        X_modifie=calculer_moyenne(X.copy(),self.pond_maths_t, self.pond_physique_t, self.pond_maths_p, self.pond_physique_p)\n",
        "        X_modifie['Autonomie']=X['Autonomie']\n",
        "        X_modifie['Méthode de travail']=X['Méthode de travail']\n",
        "        X_modifie[\"Capacité à s'investir\"]=X[\"Capacité à s'investir\"]\n",
        "        X_modifie[\"Avis sur la capacité à réussir\"]=X[\"Avis sur la capacité à réussir\"]\n",
        "        self.model.fit(X_modifie, y)\n",
        "\n",
        "    def predict(self, X):\n",
        "        # Prédiction basée sur la moyenne pondérée et les appreciations\n",
        "        X_modifie=calculer_moyenne(X.copy(),self.pond_maths_t, self.pond_physique_t, self.pond_maths_p, self.pond_physique_p)\n",
        "        X_modifie['Autonomie']=X['Autonomie']\n",
        "        X_modifie['Méthode de travail']=X['Méthode de travail']\n",
        "        X_modifie[\"Capacité à s'investir\"]=X[\"Capacité à s'investir\"]\n",
        "        X_modifie[\"Avis sur la capacité à réussir\"]=X[\"Avis sur la capacité à réussir\"]\n",
        "        return self.model.predict(X_modifie)\n",
        "\n",
        "    def score(self, X, y):\n",
        "        predicted_y = self.predict(X)\n",
        "        return r2_score(y, predicted_y)\n",
        "\n",
        "    def get_params(self, deep=True):\n",
        "        return {'pond_maths_t': self.pond_maths_t,'pond_physique_t':self.pond_physique_t,'pond_maths_p':self.pond_maths_p,'pond_physique_p':self.pond_physique_p}\n",
        "\n",
        "    def set_params(self, **parameters):\n",
        "        for parameter, value in parameters.items():\n",
        "            setattr(self, parameter, value)\n",
        "        return self"
      ],
      "metadata": {
        "id": "jxzvCWkCEyzj"
      },
      "execution_count": 96,
      "outputs": []
    },
    {
      "cell_type": "markdown",
      "source": [
        "Grid Search pour la recherche des paramètres optimaux :"
      ],
      "metadata": {
        "id": "Ky-YuHxDWkOb"
      }
    },
    {
      "cell_type": "code",
      "source": [
        "'''\n",
        "from sklearn.model_selection import GridSearchCV\n",
        "from sklearn.model_selection import GridSearchCV, KFold\n",
        "\n",
        "\n",
        "cv_generator = KFold(n_splits=5, shuffle=True, random_state=42)\n",
        "# Définition des paramètres pour GridSearchCV\n",
        "param_grid = {\n",
        "    'pond_maths_t': [1, 2, 3, 4],\n",
        "    'pond_physique_t': [1, 2, 3, 4],\n",
        "    'pond_maths_p': [1, 2, 3, 4],\n",
        "    'pond_physique_p': [1, 2, 3, 4],\n",
        "    'fit_intercept': [True, False],\n",
        "    'normalize': [True, False]\n",
        "}\n",
        "\n",
        "# Initialisation de GridSearchCV avec KFold pour la validation croisée\n",
        "grid_search_rf = GridSearchCV(LinearRegressorAvecPonderations(), param_grid, cv=cv_generator, scoring='neg_mean_squared_error')\n",
        "\n",
        "# Exécution de GridSearchCV sur l'ensemble des données\n",
        "grid_search_rf.fit(X_scaled, y)\n",
        "\n",
        "# Affichage des meilleurs paramètres et du meilleur score MSE\n",
        "print(\"Meilleurs paramètres:\", grid_search_rf.best_params_)\n",
        "print(\"Meilleur score (MSE):\", -grid_search_rf.best_score_)\n",
        "'''"
      ],
      "metadata": {
        "colab": {
          "base_uri": "https://localhost:8080/",
          "height": 139
        },
        "id": "IJICl21XMytb",
        "outputId": "9a820753-53f6-42a2-ed71-71c39486f25a"
      },
      "execution_count": 97,
      "outputs": [
        {
          "output_type": "execute_result",
          "data": {
            "text/plain": [
              "'\\nfrom sklearn.model_selection import GridSearchCV\\nfrom sklearn.model_selection import GridSearchCV, KFold\\n\\n\\ncv_generator = KFold(n_splits=5, shuffle=True, random_state=42)\\n# Définition des paramètres pour GridSearchCV\\nparam_grid = {\\n    \\'pond_maths_t\\': [1, 2, 3, 4],\\n    \\'pond_physique_t\\': [1, 2, 3, 4],\\n    \\'pond_maths_p\\': [1, 2, 3, 4],\\n    \\'pond_physique_p\\': [1, 2, 3, 4],\\n    \\'fit_intercept\\': [True, False],\\n    \\'normalize\\': [True, False]\\n}\\n\\n# Initialisation de GridSearchCV avec KFold pour la validation croisée\\ngrid_search_rf = GridSearchCV(LinearRegressorAvecPonderations(), param_grid, cv=cv_generator, scoring=\\'neg_mean_squared_error\\')\\n\\n# Exécution de GridSearchCV sur l\\'ensemble des données\\ngrid_search_rf.fit(X_scaled, y)\\n\\n# Affichage des meilleurs paramètres et du meilleur score MSE\\nprint(\"Meilleurs paramètres:\", grid_search_rf.best_params_)\\nprint(\"Meilleur score (MSE):\", -grid_search_rf.best_score_)\\n'"
            ],
            "application/vnd.google.colaboratory.intrinsic+json": {
              "type": "string"
            }
          },
          "metadata": {},
          "execution_count": 97
        }
      ]
    },
    {
      "cell_type": "code",
      "source": [
        "from sklearn.model_selection import KFold\n",
        "from sklearn.linear_model import LinearRegression\n",
        "from sklearn.model_selection import cross_val_score\n",
        "\n",
        "cv_generator = KFold(n_splits=5, shuffle=True, random_state=42)\n",
        "scores = cross_val_score(LinearRegressorAvecPonderations(), X_scaled, y, scoring='neg_mean_squared_error', cv=cv_generator)\n",
        "print(abs(scores.mean()))"
      ],
      "metadata": {
        "id": "49bVPLBn2pqB",
        "colab": {
          "base_uri": "https://localhost:8080/"
        },
        "outputId": "d24af837-3cb0-4f8a-c76b-b23773bddf17"
      },
      "execution_count": 98,
      "outputs": [
        {
          "output_type": "stream",
          "name": "stdout",
          "text": [
            "12.5085110621254\n"
          ]
        }
      ]
    },
    {
      "cell_type": "code",
      "source": [
        "model = LinearRegressorAvecPonderations()\n",
        "model.fit(X_scaled, y)\n",
        "r_squared = model.score(X_scaled, y)\n",
        "print(r_squared)"
      ],
      "metadata": {
        "colab": {
          "base_uri": "https://localhost:8080/"
        },
        "id": "YzEvRQdq-ud9",
        "outputId": "1e042858-de3e-493b-ceff-1096b5a0ff05"
      },
      "execution_count": 99,
      "outputs": [
        {
          "output_type": "stream",
          "name": "stdout",
          "text": [
            "0.3389284229196151\n"
          ]
        }
      ]
    },
    {
      "cell_type": "markdown",
      "source": [
        "Etude sur l'influence de la taille de l'echantillon sur la performance du modèle :"
      ],
      "metadata": {
        "id": "EFtzWLVu8cou"
      }
    },
    {
      "cell_type": "code",
      "source": [
        "\n",
        "from sklearn.model_selection import learning_curve\n",
        "\n",
        "train_sizes=[0.3, 0.4, 0.5, 0.6, 0.7, 0.9]\n",
        "\n",
        "train_sizes, train_scores, validation_scores = learning_curve(estimator = model, X=X_scaled, y=y, train_sizes = train_sizes, cv = 20, scoring = 'neg_mean_squared_error', shuffle=True)\n",
        "\n",
        "train_scores_mean = -train_scores.mean(axis = 1)\n",
        "validation_scores_mean = -validation_scores.mean(axis = 1)\n",
        "\n",
        "import matplotlib.pyplot as plt\n",
        "\n",
        "plt.style.use('seaborn')\n",
        "plt.plot(train_sizes, train_scores_mean, label = 'Training error')\n",
        "plt.plot(train_sizes, validation_scores_mean, label = 'Validation error')\n",
        "plt.ylabel('MSE', fontsize = 14)\n",
        "plt.xlabel('Training set size', fontsize = 14)\n",
        "plt.title('Learning curve', fontsize = 18, y = 1.03)\n",
        "plt.legend()\n",
        "plt.ylim(0,40)\n",
        "\n"
      ],
      "metadata": {
        "id": "e7RwVcyPTnQq",
        "colab": {
          "base_uri": "https://localhost:8080/",
          "height": 618
        },
        "outputId": "642927ee-12f9-42e4-99a0-4b0af222de10"
      },
      "execution_count": 100,
      "outputs": [
        {
          "output_type": "stream",
          "name": "stderr",
          "text": [
            "<ipython-input-100-aef656a2f3b0>:12: MatplotlibDeprecationWarning: The seaborn styles shipped by Matplotlib are deprecated since 3.6, as they no longer correspond to the styles shipped by seaborn. However, they will remain available as 'seaborn-v0_8-<style>'. Alternatively, directly use the seaborn API instead.\n",
            "  plt.style.use('seaborn')\n"
          ]
        },
        {
          "output_type": "execute_result",
          "data": {
            "text/plain": [
              "(0.0, 40.0)"
            ]
          },
          "metadata": {},
          "execution_count": 100
        },
        {
          "output_type": "display_data",
          "data": {
            "text/plain": [
              "<Figure size 800x550 with 1 Axes>"
            ],
            "image/png": "[encoded data removed]"
          },
          "metadata": {}
        }
      ]
    }
  ]
}